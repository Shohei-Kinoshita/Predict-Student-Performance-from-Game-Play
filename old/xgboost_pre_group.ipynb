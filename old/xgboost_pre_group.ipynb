{
 "cells": [
  {
   "cell_type": "code",
   "execution_count": 1,
   "metadata": {
    "tags": []
   },
   "outputs": [],
   "source": [
    "import os\n",
    "os.chdir('/home/jovyan/kaggle/')"
   ]
  },
  {
   "cell_type": "code",
   "execution_count": 2,
   "metadata": {
    "tags": []
   },
   "outputs": [
    {
     "data": {
      "text/html": [
       "<style type='text/css'>\n",
       ".datatable table.frame { margin-bottom: 0; }\n",
       ".datatable table.frame thead { border-bottom: none; }\n",
       ".datatable table.frame tr.coltypes td {  color: #FFFFFF;  line-height: 6px;  padding: 0 0.5em;}\n",
       ".datatable .bool    { background: #DDDD99; }\n",
       ".datatable .object  { background: #565656; }\n",
       ".datatable .int     { background: #5D9E5D; }\n",
       ".datatable .float   { background: #4040CC; }\n",
       ".datatable .str     { background: #CC4040; }\n",
       ".datatable .time    { background: #40CC40; }\n",
       ".datatable .row_index {  background: var(--jp-border-color3);  border-right: 1px solid var(--jp-border-color0);  color: var(--jp-ui-font-color3);  font-size: 9px;}\n",
       ".datatable .frame tbody td { text-align: left; }\n",
       ".datatable .frame tr.coltypes .row_index {  background: var(--jp-border-color0);}\n",
       ".datatable th:nth-child(2) { padding-left: 12px; }\n",
       ".datatable .hellipsis {  color: var(--jp-cell-editor-border-color);}\n",
       ".datatable .vellipsis {  background: var(--jp-layout-color0);  color: var(--jp-cell-editor-border-color);}\n",
       ".datatable .na {  color: var(--jp-cell-editor-border-color);  font-size: 80%;}\n",
       ".datatable .sp {  opacity: 0.25;}\n",
       ".datatable .footer { font-size: 9px; }\n",
       ".datatable .frame_dimensions {  background: var(--jp-border-color3);  border-top: 1px solid var(--jp-border-color0);  color: var(--jp-ui-font-color3);  display: inline-block;  opacity: 0.6;  padding: 1px 10px 1px 5px;}\n",
       "</style>\n"
      ],
      "text/plain": [
       "<IPython.core.display.HTML object>"
      ]
     },
     "metadata": {},
     "output_type": "display_data"
    }
   ],
   "source": [
    "import gc\n",
    "import os\n",
    "import time\n",
    "import json\n",
    "\n",
    "import pandas as pd\n",
    "import numpy as np\n",
    "import warnings\n",
    "import pickle\n",
    "import polars as pl\n",
    "\n",
    "from collections import defaultdict\n",
    "from itertools import combinations\n",
    "import pyarrow as pa\n",
    "\n",
    "from xgboost import XGBClassifier\n",
    "\n",
    "from lightgbm import LGBMClassifier\n",
    "from lightgbm import early_stopping\n",
    "from lightgbm import log_evaluation\n",
    "from lightgbm import Booster\n",
    "\n",
    "from catboost import CatBoostClassifier, Pool\n",
    "\n",
    "from sklearn.model_selection import KFold, GroupKFold\n",
    "from sklearn.metrics import roc_auc_score, f1_score\n",
    "\n",
    "from function.config import *\n",
    "from function.functions_20230610 import *\n",
    "\n",
    "import warnings\n",
    "warnings.filterwarnings('ignore')"
   ]
  },
  {
   "cell_type": "code",
   "execution_count": 3,
   "metadata": {
    "tags": []
   },
   "outputs": [],
   "source": [
    "experiment_name = 'blend_gbdt'  # NOTE: 実験概要、フォルダ名になる\n",
    "path_oof = ''\n",
    "\n",
    "\n",
    "PATH_BASE_DIR = 'model/blend_for_psp/{}/'\n",
    "PATH_MODEL_XGB = PATH_BASE_DIR + 'xgb_models/fold{}/XGB_question{}.xgb'\n",
    "PATH_MODEL_CAT = PATH_BASE_DIR + 'cat_models/fold{}/CAT_question{}.cbm'\n",
    "PATH_MODEL_LGB = PATH_BASE_DIR + 'lgb_models/fold{}/LGB_question{}.lgb'\n",
    "PATH_FEATURE_SET = PATH_BASE_DIR + 'pre_group_features.json'"
   ]
  },
  {
   "cell_type": "code",
   "execution_count": 4,
   "metadata": {
    "tags": []
   },
   "outputs": [
    {
     "name": "stdout",
     "output_type": "stream",
     "text": [
      "CPU times: user 37.1 s, sys: 18.4 s, total: 55.5 s\n",
      "Wall time: 9.12 s\n"
     ]
    }
   ],
   "source": [
    "%%time\n",
    "df = pl.read_csv(PATH_TRAIN)\n",
    "targets = MyFunctions.create_target_df(PATH_TRAIN_LABEL)"
   ]
  },
  {
   "cell_type": "code",
   "execution_count": 5,
   "metadata": {
    "tags": []
   },
   "outputs": [
    {
     "name": "stdout",
     "output_type": "stream",
     "text": [
      "CPU times: user 16.2 s, sys: 18.4 s, total: 34.7 s\n",
      "Wall time: 13.1 s\n"
     ]
    }
   ],
   "source": [
    "%%time\n",
    "df = MyFunctions.preprocessing_pl(df)\n",
    "df1, df2, df3 = MyFunctions.split_dataframe_by_level_group(df)"
   ]
  },
  {
   "cell_type": "code",
   "execution_count": 6,
   "metadata": {
    "tags": []
   },
   "outputs": [
    {
     "name": "stdout",
     "output_type": "stream",
     "text": [
      "df1 shape: (3981005, 20)\n",
      "df2 shape: (8844238, 20)\n",
      "df3 shape: (13471703, 20)\n"
     ]
    }
   ],
   "source": [
    "print(f'df1 shape: {df1.shape}')\n",
    "print(f'df2 shape: {df2.shape}')\n",
    "print(f'df3 shape: {df3.shape}')"
   ]
  },
  {
   "cell_type": "code",
   "execution_count": 7,
   "metadata": {
    "editable": false,
    "tags": []
   },
   "outputs": [
    {
     "data": {
      "text/plain": [
       "0"
      ]
     },
     "execution_count": 7,
     "metadata": {},
     "output_type": "execute_result"
    }
   ],
   "source": [
    "del df\n",
    "gc.collect()"
   ]
  },
  {
   "cell_type": "code",
   "execution_count": 8,
   "metadata": {
    "tags": []
   },
   "outputs": [
    {
     "name": "stdout",
     "output_type": "stream",
     "text": [
      "df1 done (23562, 2101)\n",
      "df2 done (23562, 2107)\n",
      "df3 done (23562, 2105)\n",
      "CPU times: user 6min 3s, sys: 12.8 s, total: 6min 16s\n",
      "Wall time: 1min 57s\n"
     ]
    }
   ],
   "source": [
    "%%time\n",
    "df1 = MyFunctions.feature_engineer_pre_group(df1, grp='0-4', use_extra=True, feature_suffix='')\n",
    "print('df1 done',df1.shape)\n",
    "df2 = MyFunctions.feature_engineer_pre_group(df2, grp='5-12', use_extra=True, feature_suffix='')\n",
    "print('df2 done',df2.shape)\n",
    "df3 = MyFunctions.feature_engineer_pre_group(df3, grp='13-22', use_extra=True, feature_suffix='')\n",
    "print('df3 done',df3.shape)"
   ]
  },
  {
   "cell_type": "markdown",
   "metadata": {},
   "source": [
    "## ここが変更点\n",
    "以前使用した特徴量を全て使用する"
   ]
  },
  {
   "cell_type": "code",
   "execution_count": 9,
   "metadata": {
    "tags": []
   },
   "outputs": [],
   "source": [
    "df1.rename(columns={col: f'{col}_grp1' for col in df1.columns if col != 'session_id'}, inplace=True)\n",
    "df2.rename(columns={col: f'{col}_grp2' for col in df2.columns if col != 'session_id'}, inplace=True)\n",
    "df3.rename(columns={col: f'{col}_grp3' for col in df3.columns if col != 'session_id'}, inplace=True)"
   ]
  },
  {
   "cell_type": "code",
   "execution_count": 10,
   "metadata": {
    "tags": []
   },
   "outputs": [
    {
     "data": {
      "text/html": [
       "<div>\n",
       "<style scoped>\n",
       "    .dataframe tbody tr th:only-of-type {\n",
       "        vertical-align: middle;\n",
       "    }\n",
       "\n",
       "    .dataframe tbody tr th {\n",
       "        vertical-align: top;\n",
       "    }\n",
       "\n",
       "    .dataframe thead th {\n",
       "        text-align: right;\n",
       "    }\n",
       "</style>\n",
       "<table border=\"1\" class=\"dataframe\">\n",
       "  <thead>\n",
       "    <tr style=\"text-align: right;\">\n",
       "      <th></th>\n",
       "      <th>session_id</th>\n",
       "      <th>session_number__grp1</th>\n",
       "      <th>null_count_grp1</th>\n",
       "      <th>page_change_count_grp1</th>\n",
       "      <th>question_count_grp1</th>\n",
       "      <th>block_count_grp1</th>\n",
       "      <th>recap_count_grp1</th>\n",
       "      <th>lost_count_grp1</th>\n",
       "      <th>event_name_unique__grp1</th>\n",
       "      <th>name_unique__grp1</th>\n",
       "      <th>...</th>\n",
       "      <th>17_ET_max__grp1</th>\n",
       "      <th>18_ET_max__grp1</th>\n",
       "      <th>19_ET_max__grp1</th>\n",
       "      <th>20_ET_max__grp1</th>\n",
       "      <th>21_ET_max__grp1</th>\n",
       "      <th>22_ET_max__grp1</th>\n",
       "      <th>slip_click_duration_grp1</th>\n",
       "      <th>slip_click_indexCount_grp1</th>\n",
       "      <th>shirt_era_search_duration_grp1</th>\n",
       "      <th>shirt_era_search_indexCount_grp1</th>\n",
       "    </tr>\n",
       "  </thead>\n",
       "  <tbody>\n",
       "    <tr>\n",
       "      <th>0</th>\n",
       "      <td>20090312431273200</td>\n",
       "      <td>165</td>\n",
       "      <td>103</td>\n",
       "      <td>15</td>\n",
       "      <td>13</td>\n",
       "      <td>0</td>\n",
       "      <td>0</td>\n",
       "      <td>0</td>\n",
       "      <td>10</td>\n",
       "      <td>3</td>\n",
       "      <td>...</td>\n",
       "      <td>NaN</td>\n",
       "      <td>NaN</td>\n",
       "      <td>NaN</td>\n",
       "      <td>NaN</td>\n",
       "      <td>NaN</td>\n",
       "      <td>NaN</td>\n",
       "      <td>4512</td>\n",
       "      <td>5</td>\n",
       "      <td>7916</td>\n",
       "      <td>3</td>\n",
       "    </tr>\n",
       "    <tr>\n",
       "      <th>1</th>\n",
       "      <td>20090312433251036</td>\n",
       "      <td>139</td>\n",
       "      <td>78</td>\n",
       "      <td>10</td>\n",
       "      <td>11</td>\n",
       "      <td>2</td>\n",
       "      <td>0</td>\n",
       "      <td>0</td>\n",
       "      <td>11</td>\n",
       "      <td>4</td>\n",
       "      <td>...</td>\n",
       "      <td>NaN</td>\n",
       "      <td>NaN</td>\n",
       "      <td>NaN</td>\n",
       "      <td>NaN</td>\n",
       "      <td>NaN</td>\n",
       "      <td>NaN</td>\n",
       "      <td>8267</td>\n",
       "      <td>4</td>\n",
       "      <td>9691</td>\n",
       "      <td>13</td>\n",
       "    </tr>\n",
       "    <tr>\n",
       "      <th>2</th>\n",
       "      <td>20090312455206810</td>\n",
       "      <td>149</td>\n",
       "      <td>73</td>\n",
       "      <td>16</td>\n",
       "      <td>12</td>\n",
       "      <td>0</td>\n",
       "      <td>0</td>\n",
       "      <td>0</td>\n",
       "      <td>9</td>\n",
       "      <td>3</td>\n",
       "      <td>...</td>\n",
       "      <td>NaN</td>\n",
       "      <td>NaN</td>\n",
       "      <td>NaN</td>\n",
       "      <td>NaN</td>\n",
       "      <td>NaN</td>\n",
       "      <td>NaN</td>\n",
       "      <td>5934</td>\n",
       "      <td>4</td>\n",
       "      <td>9783</td>\n",
       "      <td>3</td>\n",
       "    </tr>\n",
       "    <tr>\n",
       "      <th>3</th>\n",
       "      <td>20090313091715820</td>\n",
       "      <td>176</td>\n",
       "      <td>110</td>\n",
       "      <td>17</td>\n",
       "      <td>13</td>\n",
       "      <td>0</td>\n",
       "      <td>0</td>\n",
       "      <td>3</td>\n",
       "      <td>11</td>\n",
       "      <td>4</td>\n",
       "      <td>...</td>\n",
       "      <td>NaN</td>\n",
       "      <td>NaN</td>\n",
       "      <td>NaN</td>\n",
       "      <td>NaN</td>\n",
       "      <td>NaN</td>\n",
       "      <td>NaN</td>\n",
       "      <td>4513</td>\n",
       "      <td>5</td>\n",
       "      <td>18276</td>\n",
       "      <td>9</td>\n",
       "    </tr>\n",
       "    <tr>\n",
       "      <th>4</th>\n",
       "      <td>20090313571836404</td>\n",
       "      <td>112</td>\n",
       "      <td>59</td>\n",
       "      <td>9</td>\n",
       "      <td>12</td>\n",
       "      <td>0</td>\n",
       "      <td>0</td>\n",
       "      <td>0</td>\n",
       "      <td>10</td>\n",
       "      <td>4</td>\n",
       "      <td>...</td>\n",
       "      <td>NaN</td>\n",
       "      <td>NaN</td>\n",
       "      <td>NaN</td>\n",
       "      <td>NaN</td>\n",
       "      <td>NaN</td>\n",
       "      <td>NaN</td>\n",
       "      <td>4884</td>\n",
       "      <td>4</td>\n",
       "      <td>6955</td>\n",
       "      <td>4</td>\n",
       "    </tr>\n",
       "  </tbody>\n",
       "</table>\n",
       "<p>5 rows × 2101 columns</p>\n",
       "</div>"
      ],
      "text/plain": [
       "          session_id  session_number__grp1  null_count_grp1  \\\n",
       "0  20090312431273200                   165              103   \n",
       "1  20090312433251036                   139               78   \n",
       "2  20090312455206810                   149               73   \n",
       "3  20090313091715820                   176              110   \n",
       "4  20090313571836404                   112               59   \n",
       "\n",
       "   page_change_count_grp1  question_count_grp1  block_count_grp1  \\\n",
       "0                      15                   13                 0   \n",
       "1                      10                   11                 2   \n",
       "2                      16                   12                 0   \n",
       "3                      17                   13                 0   \n",
       "4                       9                   12                 0   \n",
       "\n",
       "   recap_count_grp1  lost_count_grp1  event_name_unique__grp1  \\\n",
       "0                 0                0                       10   \n",
       "1                 0                0                       11   \n",
       "2                 0                0                        9   \n",
       "3                 0                3                       11   \n",
       "4                 0                0                       10   \n",
       "\n",
       "   name_unique__grp1  ...  17_ET_max__grp1  18_ET_max__grp1  19_ET_max__grp1  \\\n",
       "0                  3  ...              NaN              NaN              NaN   \n",
       "1                  4  ...              NaN              NaN              NaN   \n",
       "2                  3  ...              NaN              NaN              NaN   \n",
       "3                  4  ...              NaN              NaN              NaN   \n",
       "4                  4  ...              NaN              NaN              NaN   \n",
       "\n",
       "   20_ET_max__grp1  21_ET_max__grp1  22_ET_max__grp1  \\\n",
       "0              NaN              NaN              NaN   \n",
       "1              NaN              NaN              NaN   \n",
       "2              NaN              NaN              NaN   \n",
       "3              NaN              NaN              NaN   \n",
       "4              NaN              NaN              NaN   \n",
       "\n",
       "   slip_click_duration_grp1  slip_click_indexCount_grp1  \\\n",
       "0                      4512                           5   \n",
       "1                      8267                           4   \n",
       "2                      5934                           4   \n",
       "3                      4513                           5   \n",
       "4                      4884                           4   \n",
       "\n",
       "   shirt_era_search_duration_grp1  shirt_era_search_indexCount_grp1  \n",
       "0                            7916                                 3  \n",
       "1                            9691                                13  \n",
       "2                            9783                                 3  \n",
       "3                           18276                                 9  \n",
       "4                            6955                                 4  \n",
       "\n",
       "[5 rows x 2101 columns]"
      ]
     },
     "execution_count": 10,
     "metadata": {},
     "output_type": "execute_result"
    }
   ],
   "source": [
    "df1.head()"
   ]
  },
  {
   "cell_type": "code",
   "execution_count": 11,
   "metadata": {
    "tags": []
   },
   "outputs": [
    {
     "name": "stdout",
     "output_type": "stream",
     "text": [
      "df1 num_features: 668\n",
      "df2 num_features: 1003\n",
      "df3 num_features: 1170\n"
     ]
    }
   ],
   "source": [
    "list_feautres_df1 = MyFunctions.feature_selection(df1)\n",
    "list_feautres_df2 = MyFunctions.feature_selection(df2)\n",
    "list_feautres_df3 = MyFunctions.feature_selection(df3)\n",
    "\n",
    "print(f'df1 num_features: {len(list_feautres_df1)}')\n",
    "print(f'df2 num_features: {len(list_feautres_df2)}')\n",
    "print(f'df3 num_features: {len(list_feautres_df3)}')"
   ]
  },
  {
   "cell_type": "code",
   "execution_count": 12,
   "metadata": {
    "tags": []
   },
   "outputs": [
    {
     "name": "stdout",
     "output_type": "stream",
     "text": [
      "We will train with 23562 users info\n"
     ]
    }
   ],
   "source": [
    "ALL_USERS = df1.index.unique()\n",
    "print('We will train with', len(ALL_USERS) ,'users info')"
   ]
  },
  {
   "cell_type": "code",
   "execution_count": 13,
   "metadata": {
    "tags": []
   },
   "outputs": [],
   "source": [
    "list_level_group = ['0-4', '5-12', '13-22']\n",
    "MyFunctions.dump_feature_list_to_json(list_level_group,\n",
    "                                      [list_feautres_df1, list_feautres_df1 + list_feautres_df2, list_feautres_df1 + list_feautres_df2 + list_feautres_df3],\n",
    "                                      PATH_FEATURE_SET.format(experiment_name)\n",
    "                                     )"
   ]
  },
  {
   "cell_type": "code",
   "execution_count": 14,
   "metadata": {
    "tags": []
   },
   "outputs": [],
   "source": [
    "xgb_params = {\n",
    "        'booster': 'gbtree',\n",
    "        'tree_method': 'gpu_hist',\n",
    "        'objective': 'binary:logistic',\n",
    "        'eval_metric': 'logloss',\n",
    "        'learning_rate': 0.02,\n",
    "        'alpha': 8,\n",
    "        'max_depth': 4,\n",
    "        'subsample': 0.8,\n",
    "        'colsample_bytree': 0.5,\n",
    "        'n_estimators': 1500,\n",
    "        'random_state': 42\n",
    "        }"
   ]
  },
  {
   "cell_type": "code",
   "execution_count": 15,
   "metadata": {
    "tags": []
   },
   "outputs": [],
   "source": [
    "dict_modeling_info = {\n",
    "    '0-4': {\n",
    "        'df': df1,\n",
    "        'feature': list_feautres_df1,\n",
    "    },\n",
    "    '5-12': {\n",
    "        'df': pd.concat([df1, df2], axis=1),\n",
    "        'feature': list_feautres_df1 + list_feautres_df2,\n",
    "    },\n",
    "    '13-22': {\n",
    "        'df': pd.concat([df1, df2, df3], axis=1),\n",
    "        'feature': list_feautres_df1 + list_feautres_df2 + list_feautres_df3,\n",
    "    }\n",
    "}"
   ]
  },
  {
   "cell_type": "code",
   "execution_count": 17,
   "metadata": {
    "tags": []
   },
   "outputs": [],
   "source": [
    "def train_xgb(X_train, y_train, X_valid, y_valid, params, experiment_name, num_fold, num_question, is_save=True):\n",
    "    clf = XGBClassifier(**params)\n",
    "    clf.fit(X_train, y_train, early_stopping_rounds=30, eval_set=[[X_valid, y_valid]], verbose=0)\n",
    "    if is_save:\n",
    "        clf.save_model(PATH_MODEL_XGB.format(experiment_name, num_fold, num_question))\n",
    "    return clf"
   ]
  },
  {
   "cell_type": "code",
   "execution_count": 18,
   "metadata": {
    "tags": []
   },
   "outputs": [
    {
     "name": "stdout",
     "output_type": "stream",
     "text": [
      "question: 1\n",
      "  elapsed time：38.16 sec\n",
      "question: 2\n",
      "  elapsed time：29.22 sec\n",
      "question: 3\n",
      "  elapsed time：28.36 sec\n",
      "question: 4\n",
      "  elapsed time：122.47 sec\n",
      "question: 5\n",
      "  elapsed time：127.65 sec\n",
      "question: 6\n",
      "  elapsed time：108.61 sec\n",
      "question: 7\n",
      "  elapsed time：103.87 sec\n",
      "question: 8\n",
      "  elapsed time：76.13 sec\n",
      "question: 9\n",
      "  elapsed time：85.83 sec\n",
      "question: 10\n",
      "  elapsed time：89.65 sec\n",
      "question: 11\n",
      "  elapsed time：80.82 sec\n",
      "question: 12\n",
      "  elapsed time：81.66 sec\n",
      "question: 13\n",
      "  elapsed time：119.94 sec\n",
      "question: 14\n",
      "  elapsed time：217.32 sec\n",
      "question: 15\n",
      "  elapsed time：200.49 sec\n",
      "question: 16\n",
      "  elapsed time：183.29 sec\n",
      "question: 17\n",
      "  elapsed time：157.92 sec\n",
      "question: 18\n",
      "  elapsed time：205.13 sec\n"
     ]
    }
   ],
   "source": [
    "oof_xgb = pd.DataFrame(np.zeros((df1.shape[0], 18)), columns=[f'q_{i}' for i in range(1, 19)], index=df1.index)\n",
    "df_estimator = pd.DataFrame(np.zeros((5, 18)), index=[i for i in range(1, 6)], columns=[i for i in range(1, 19)])\n",
    "kf = KFold(n_splits=5, shuffle=True, random_state=0)\n",
    "\n",
    "for t in range(1, 19):\n",
    "    print(f'question: {t}')\n",
    "    pre_exe = time.time()\n",
    "\n",
    "    # USE THIS TRAIN DATA WITH THESE QUESTIONS\n",
    "    if t <= 3:\n",
    "        grp = '0-4'\n",
    "    elif t <= 13:\n",
    "        grp = '5-12'\n",
    "    elif t <= 22:\n",
    "        grp = '13-22'\n",
    "\n",
    "    df = dict_modeling_info[grp]['df'].copy()\n",
    "    FEATURES = dict_modeling_info[grp]['feature'].copy()\n",
    "    list_feature_xgb = [f'q_{j}' for j in range(1, t)]\n",
    "\n",
    "    # TRAIN DATA\n",
    "    df = pd.merge(df, targets.query(f'q == {t}')[['correct']], left_index=True, right_index=True, how='inner')\n",
    "\n",
    "    for i, (train_idx, valid_idx) in enumerate(kf.split(df), start=1):\n",
    "        df_train, df_valid = df.iloc[train_idx], df.iloc[valid_idx]\n",
    "\n",
    "        X_train = df_train[FEATURES].astype('float32')\n",
    "        y_train = df_train['correct']\n",
    "        X_valid = df_valid[FEATURES].astype('float32')\n",
    "        y_valid = df_valid['correct']\n",
    "\n",
    "        # xgb part\n",
    "        clf_xgb = train_xgb(pd.merge(X_train, oof_xgb[list_feature_xgb], left_index=True, right_index=True, how='inner'),\n",
    "                            y_train,\n",
    "                            pd.merge(X_valid, oof_xgb[list_feature_xgb], left_index=True, right_index=True, how='inner'),\n",
    "                            y_valid,\n",
    "                            xgb_params,\n",
    "                            experiment_name,\n",
    "                            i,\n",
    "                            t,\n",
    "                            is_save=False\n",
    "                           )\n",
    "        pred_xgb = clf_xgb.predict_proba(pd.merge(X_valid, oof_xgb[list_feature_xgb], left_index=True, right_index=True, how='inner'),\n",
    "                                         ntree_limit=clf_xgb.best_ntree_limit)[:, 1]\n",
    "        df_estimator.loc[i, t] = clf_xgb.best_ntree_limit\n",
    "        oof_xgb.iloc[valid_idx, t-1] = pred_xgb\n",
    "\n",
    "        del df_train, df_valid, pred_xgb, clf_xgb\n",
    "        gc.collect()\n",
    "\n",
    "    po_exe = time.time()\n",
    "    print(f'  elapsed time：{(po_exe - pre_exe):.2f} sec')\n",
    "\n",
    "    del df, FEATURES\n",
    "    gc.collect()"
   ]
  },
  {
   "cell_type": "code",
   "execution_count": 19,
   "metadata": {
    "tags": []
   },
   "outputs": [
    {
     "data": {
      "text/html": [
       "<div>\n",
       "<style scoped>\n",
       "    .dataframe tbody tr th:only-of-type {\n",
       "        vertical-align: middle;\n",
       "    }\n",
       "\n",
       "    .dataframe tbody tr th {\n",
       "        vertical-align: top;\n",
       "    }\n",
       "\n",
       "    .dataframe thead th {\n",
       "        text-align: right;\n",
       "    }\n",
       "</style>\n",
       "<table border=\"1\" class=\"dataframe\">\n",
       "  <thead>\n",
       "    <tr style=\"text-align: right;\">\n",
       "      <th></th>\n",
       "      <th>q_1</th>\n",
       "      <th>q_2</th>\n",
       "      <th>q_3</th>\n",
       "      <th>q_4</th>\n",
       "      <th>q_5</th>\n",
       "      <th>q_6</th>\n",
       "      <th>q_7</th>\n",
       "      <th>q_8</th>\n",
       "      <th>q_9</th>\n",
       "      <th>q_10</th>\n",
       "      <th>q_11</th>\n",
       "      <th>q_12</th>\n",
       "      <th>q_13</th>\n",
       "      <th>q_14</th>\n",
       "      <th>q_15</th>\n",
       "      <th>q_16</th>\n",
       "      <th>q_17</th>\n",
       "      <th>q_18</th>\n",
       "    </tr>\n",
       "    <tr>\n",
       "      <th>session_id</th>\n",
       "      <th></th>\n",
       "      <th></th>\n",
       "      <th></th>\n",
       "      <th></th>\n",
       "      <th></th>\n",
       "      <th></th>\n",
       "      <th></th>\n",
       "      <th></th>\n",
       "      <th></th>\n",
       "      <th></th>\n",
       "      <th></th>\n",
       "      <th></th>\n",
       "      <th></th>\n",
       "      <th></th>\n",
       "      <th></th>\n",
       "      <th></th>\n",
       "      <th></th>\n",
       "      <th></th>\n",
       "    </tr>\n",
       "  </thead>\n",
       "  <tbody>\n",
       "    <tr>\n",
       "      <th>20090312431273200</th>\n",
       "      <td>0.952800</td>\n",
       "      <td>0.992633</td>\n",
       "      <td>0.981504</td>\n",
       "      <td>0.916668</td>\n",
       "      <td>0.797012</td>\n",
       "      <td>0.922611</td>\n",
       "      <td>0.915704</td>\n",
       "      <td>0.726970</td>\n",
       "      <td>0.886054</td>\n",
       "      <td>0.698606</td>\n",
       "      <td>0.815825</td>\n",
       "      <td>0.920244</td>\n",
       "      <td>0.321388</td>\n",
       "      <td>0.841913</td>\n",
       "      <td>0.696444</td>\n",
       "      <td>0.768404</td>\n",
       "      <td>0.780349</td>\n",
       "      <td>0.990426</td>\n",
       "    </tr>\n",
       "    <tr>\n",
       "      <th>20090312433251036</th>\n",
       "      <td>0.761593</td>\n",
       "      <td>0.993308</td>\n",
       "      <td>0.967912</td>\n",
       "      <td>0.422489</td>\n",
       "      <td>0.134573</td>\n",
       "      <td>0.374689</td>\n",
       "      <td>0.497005</td>\n",
       "      <td>0.392751</td>\n",
       "      <td>0.455473</td>\n",
       "      <td>0.210007</td>\n",
       "      <td>0.395920</td>\n",
       "      <td>0.713757</td>\n",
       "      <td>0.115630</td>\n",
       "      <td>0.224900</td>\n",
       "      <td>0.075385</td>\n",
       "      <td>0.632875</td>\n",
       "      <td>0.534458</td>\n",
       "      <td>0.739835</td>\n",
       "    </tr>\n",
       "    <tr>\n",
       "      <th>20090312455206810</th>\n",
       "      <td>0.844242</td>\n",
       "      <td>0.983783</td>\n",
       "      <td>0.974385</td>\n",
       "      <td>0.730576</td>\n",
       "      <td>0.559929</td>\n",
       "      <td>0.837613</td>\n",
       "      <td>0.737565</td>\n",
       "      <td>0.636956</td>\n",
       "      <td>0.763941</td>\n",
       "      <td>0.624996</td>\n",
       "      <td>0.774119</td>\n",
       "      <td>0.886595</td>\n",
       "      <td>0.618073</td>\n",
       "      <td>0.685474</td>\n",
       "      <td>0.374980</td>\n",
       "      <td>0.773036</td>\n",
       "      <td>0.821506</td>\n",
       "      <td>0.946428</td>\n",
       "    </tr>\n",
       "    <tr>\n",
       "      <th>20090313091715820</th>\n",
       "      <td>0.430476</td>\n",
       "      <td>0.968140</td>\n",
       "      <td>0.888510</td>\n",
       "      <td>0.810967</td>\n",
       "      <td>0.492738</td>\n",
       "      <td>0.743654</td>\n",
       "      <td>0.754713</td>\n",
       "      <td>0.564345</td>\n",
       "      <td>0.682542</td>\n",
       "      <td>0.467999</td>\n",
       "      <td>0.641890</td>\n",
       "      <td>0.887394</td>\n",
       "      <td>0.124244</td>\n",
       "      <td>0.663806</td>\n",
       "      <td>0.459529</td>\n",
       "      <td>0.716853</td>\n",
       "      <td>0.669798</td>\n",
       "      <td>0.976345</td>\n",
       "    </tr>\n",
       "    <tr>\n",
       "      <th>20090313571836404</th>\n",
       "      <td>0.963203</td>\n",
       "      <td>0.995051</td>\n",
       "      <td>0.990455</td>\n",
       "      <td>0.944220</td>\n",
       "      <td>0.831881</td>\n",
       "      <td>0.948121</td>\n",
       "      <td>0.901383</td>\n",
       "      <td>0.786778</td>\n",
       "      <td>0.898642</td>\n",
       "      <td>0.752889</td>\n",
       "      <td>0.816877</td>\n",
       "      <td>0.933532</td>\n",
       "      <td>0.517191</td>\n",
       "      <td>0.877162</td>\n",
       "      <td>0.660436</td>\n",
       "      <td>0.784640</td>\n",
       "      <td>0.797998</td>\n",
       "      <td>0.994224</td>\n",
       "    </tr>\n",
       "  </tbody>\n",
       "</table>\n",
       "</div>"
      ],
      "text/plain": [
       "                        q_1       q_2       q_3       q_4       q_5       q_6  \\\n",
       "session_id                                                                      \n",
       "20090312431273200  0.952800  0.992633  0.981504  0.916668  0.797012  0.922611   \n",
       "20090312433251036  0.761593  0.993308  0.967912  0.422489  0.134573  0.374689   \n",
       "20090312455206810  0.844242  0.983783  0.974385  0.730576  0.559929  0.837613   \n",
       "20090313091715820  0.430476  0.968140  0.888510  0.810967  0.492738  0.743654   \n",
       "20090313571836404  0.963203  0.995051  0.990455  0.944220  0.831881  0.948121   \n",
       "\n",
       "                        q_7       q_8       q_9      q_10      q_11      q_12  \\\n",
       "session_id                                                                      \n",
       "20090312431273200  0.915704  0.726970  0.886054  0.698606  0.815825  0.920244   \n",
       "20090312433251036  0.497005  0.392751  0.455473  0.210007  0.395920  0.713757   \n",
       "20090312455206810  0.737565  0.636956  0.763941  0.624996  0.774119  0.886595   \n",
       "20090313091715820  0.754713  0.564345  0.682542  0.467999  0.641890  0.887394   \n",
       "20090313571836404  0.901383  0.786778  0.898642  0.752889  0.816877  0.933532   \n",
       "\n",
       "                       q_13      q_14      q_15      q_16      q_17      q_18  \n",
       "session_id                                                                     \n",
       "20090312431273200  0.321388  0.841913  0.696444  0.768404  0.780349  0.990426  \n",
       "20090312433251036  0.115630  0.224900  0.075385  0.632875  0.534458  0.739835  \n",
       "20090312455206810  0.618073  0.685474  0.374980  0.773036  0.821506  0.946428  \n",
       "20090313091715820  0.124244  0.663806  0.459529  0.716853  0.669798  0.976345  \n",
       "20090313571836404  0.517191  0.877162  0.660436  0.784640  0.797998  0.994224  "
      ]
     },
     "execution_count": 19,
     "metadata": {},
     "output_type": "execute_result"
    }
   ],
   "source": [
    "oof_xgb.head()"
   ]
  },
  {
   "cell_type": "code",
   "execution_count": 20,
   "metadata": {
    "tags": []
   },
   "outputs": [],
   "source": [
    "df_true = MyFunctions.create_compare_data(oof_xgb, targets.reset_index(), ALL_USERS)"
   ]
  },
  {
   "cell_type": "code",
   "execution_count": 21,
   "metadata": {
    "tags": []
   },
   "outputs": [
    {
     "name": "stdout",
     "output_type": "stream",
     "text": [
      "threshold: 0.500, score: 0.6727\n",
      "threshold: 0.505, score: 0.6746\n",
      "threshold: 0.510, score: 0.6763\n",
      "threshold: 0.515, score: 0.6784\n",
      "threshold: 0.520, score: 0.6801\n",
      "threshold: 0.525, score: 0.6817\n",
      "threshold: 0.530, score: 0.6833\n",
      "threshold: 0.535, score: 0.6848\n",
      "threshold: 0.540, score: 0.6858\n",
      "threshold: 0.545, score: 0.6872\n",
      "threshold: 0.550, score: 0.6882\n",
      "threshold: 0.555, score: 0.6893\n",
      "threshold: 0.560, score: 0.6905\n",
      "threshold: 0.565, score: 0.6917\n",
      "threshold: 0.570, score: 0.6929\n",
      "threshold: 0.575, score: 0.6940\n",
      "threshold: 0.580, score: 0.6949\n",
      "threshold: 0.585, score: 0.6957\n",
      "threshold: 0.590, score: 0.6966\n",
      "threshold: 0.595, score: 0.6971\n",
      "threshold: 0.600, score: 0.6978\n",
      "threshold: 0.605, score: 0.6985\n",
      "threshold: 0.610, score: 0.6989\n",
      "threshold: 0.615, score: 0.6991\n",
      "threshold: 0.620, score: 0.6991\n",
      "threshold: 0.625, score: 0.6992\n",
      "threshold: 0.630, score: 0.6992\n",
      "threshold: 0.635, score: 0.6990\n",
      "threshold: 0.640, score: 0.6984\n",
      "threshold: 0.645, score: 0.6979\n",
      "threshold: 0.650, score: 0.6972\n",
      "threshold: 0.655, score: 0.6964\n",
      "threshold: 0.660, score: 0.6953\n",
      "threshold: 0.665, score: 0.6943\n",
      "threshold: 0.670, score: 0.6931\n",
      "threshold: 0.675, score: 0.6918\n",
      "threshold: 0.680, score: 0.6903\n",
      "threshold: 0.685, score: 0.6887\n",
      "threshold: 0.690, score: 0.6870\n",
      "threshold: 0.695, score: 0.6853\n",
      "best threshold: 0.6250\n"
     ]
    }
   ],
   "source": [
    "MyFunctions.search_best_threshold(oof_xgb, df_true)"
   ]
  },
  {
   "cell_type": "code",
   "execution_count": 22,
   "metadata": {
    "tags": []
   },
   "outputs": [],
   "source": [
    "oof_xgb.to_csv('notebook/blend_gbdt/20230610_blend_baseline/out_of_fold/oof_pre_group.csv')"
   ]
  },
  {
   "cell_type": "markdown",
   "metadata": {},
   "source": [
    "## estimator"
   ]
  },
  {
   "cell_type": "code",
   "execution_count": 23,
   "metadata": {
    "tags": []
   },
   "outputs": [
    {
     "data": {
      "text/html": [
       "<div>\n",
       "<style scoped>\n",
       "    .dataframe tbody tr th:only-of-type {\n",
       "        vertical-align: middle;\n",
       "    }\n",
       "\n",
       "    .dataframe tbody tr th {\n",
       "        vertical-align: top;\n",
       "    }\n",
       "\n",
       "    .dataframe thead th {\n",
       "        text-align: right;\n",
       "    }\n",
       "</style>\n",
       "<table border=\"1\" class=\"dataframe\">\n",
       "  <thead>\n",
       "    <tr style=\"text-align: right;\">\n",
       "      <th></th>\n",
       "      <th>1</th>\n",
       "      <th>2</th>\n",
       "      <th>3</th>\n",
       "      <th>4</th>\n",
       "      <th>5</th>\n",
       "      <th>6</th>\n",
       "      <th>7</th>\n",
       "      <th>8</th>\n",
       "      <th>9</th>\n",
       "      <th>10</th>\n",
       "      <th>11</th>\n",
       "      <th>12</th>\n",
       "      <th>13</th>\n",
       "      <th>14</th>\n",
       "      <th>15</th>\n",
       "      <th>16</th>\n",
       "      <th>17</th>\n",
       "      <th>18</th>\n",
       "    </tr>\n",
       "  </thead>\n",
       "  <tbody>\n",
       "    <tr>\n",
       "      <th>1</th>\n",
       "      <td>513.0</td>\n",
       "      <td>308.0</td>\n",
       "      <td>327.0</td>\n",
       "      <td>441.0</td>\n",
       "      <td>383.0</td>\n",
       "      <td>525.0</td>\n",
       "      <td>305.0</td>\n",
       "      <td>246.0</td>\n",
       "      <td>214.0</td>\n",
       "      <td>238.0</td>\n",
       "      <td>319.0</td>\n",
       "      <td>191.0</td>\n",
       "      <td>501.0</td>\n",
       "      <td>317.0</td>\n",
       "      <td>294.0</td>\n",
       "      <td>379.0</td>\n",
       "      <td>220.0</td>\n",
       "      <td>288.0</td>\n",
       "    </tr>\n",
       "    <tr>\n",
       "      <th>2</th>\n",
       "      <td>538.0</td>\n",
       "      <td>340.0</td>\n",
       "      <td>371.0</td>\n",
       "      <td>559.0</td>\n",
       "      <td>555.0</td>\n",
       "      <td>305.0</td>\n",
       "      <td>324.0</td>\n",
       "      <td>350.0</td>\n",
       "      <td>187.0</td>\n",
       "      <td>258.0</td>\n",
       "      <td>175.0</td>\n",
       "      <td>261.0</td>\n",
       "      <td>478.0</td>\n",
       "      <td>283.0</td>\n",
       "      <td>346.0</td>\n",
       "      <td>223.0</td>\n",
       "      <td>236.0</td>\n",
       "      <td>435.0</td>\n",
       "    </tr>\n",
       "    <tr>\n",
       "      <th>3</th>\n",
       "      <td>513.0</td>\n",
       "      <td>355.0</td>\n",
       "      <td>309.0</td>\n",
       "      <td>299.0</td>\n",
       "      <td>424.0</td>\n",
       "      <td>362.0</td>\n",
       "      <td>473.0</td>\n",
       "      <td>161.0</td>\n",
       "      <td>239.0</td>\n",
       "      <td>207.0</td>\n",
       "      <td>239.0</td>\n",
       "      <td>317.0</td>\n",
       "      <td>350.0</td>\n",
       "      <td>406.0</td>\n",
       "      <td>202.0</td>\n",
       "      <td>289.0</td>\n",
       "      <td>294.0</td>\n",
       "      <td>343.0</td>\n",
       "    </tr>\n",
       "    <tr>\n",
       "      <th>4</th>\n",
       "      <td>594.0</td>\n",
       "      <td>371.0</td>\n",
       "      <td>311.0</td>\n",
       "      <td>399.0</td>\n",
       "      <td>523.0</td>\n",
       "      <td>398.0</td>\n",
       "      <td>300.0</td>\n",
       "      <td>163.0</td>\n",
       "      <td>458.0</td>\n",
       "      <td>392.0</td>\n",
       "      <td>169.0</td>\n",
       "      <td>253.0</td>\n",
       "      <td>573.0</td>\n",
       "      <td>400.0</td>\n",
       "      <td>447.0</td>\n",
       "      <td>332.0</td>\n",
       "      <td>232.0</td>\n",
       "      <td>332.0</td>\n",
       "    </tr>\n",
       "    <tr>\n",
       "      <th>5</th>\n",
       "      <td>672.0</td>\n",
       "      <td>418.0</td>\n",
       "      <td>339.0</td>\n",
       "      <td>574.0</td>\n",
       "      <td>519.0</td>\n",
       "      <td>337.0</td>\n",
       "      <td>374.0</td>\n",
       "      <td>191.0</td>\n",
       "      <td>257.0</td>\n",
       "      <td>360.0</td>\n",
       "      <td>328.0</td>\n",
       "      <td>253.0</td>\n",
       "      <td>326.0</td>\n",
       "      <td>371.0</td>\n",
       "      <td>316.0</td>\n",
       "      <td>259.0</td>\n",
       "      <td>160.0</td>\n",
       "      <td>338.0</td>\n",
       "    </tr>\n",
       "  </tbody>\n",
       "</table>\n",
       "</div>"
      ],
      "text/plain": [
       "      1      2      3      4      5      6      7      8      9      10  \\\n",
       "1  513.0  308.0  327.0  441.0  383.0  525.0  305.0  246.0  214.0  238.0   \n",
       "2  538.0  340.0  371.0  559.0  555.0  305.0  324.0  350.0  187.0  258.0   \n",
       "3  513.0  355.0  309.0  299.0  424.0  362.0  473.0  161.0  239.0  207.0   \n",
       "4  594.0  371.0  311.0  399.0  523.0  398.0  300.0  163.0  458.0  392.0   \n",
       "5  672.0  418.0  339.0  574.0  519.0  337.0  374.0  191.0  257.0  360.0   \n",
       "\n",
       "      11     12     13     14     15     16     17     18  \n",
       "1  319.0  191.0  501.0  317.0  294.0  379.0  220.0  288.0  \n",
       "2  175.0  261.0  478.0  283.0  346.0  223.0  236.0  435.0  \n",
       "3  239.0  317.0  350.0  406.0  202.0  289.0  294.0  343.0  \n",
       "4  169.0  253.0  573.0  400.0  447.0  332.0  232.0  332.0  \n",
       "5  328.0  253.0  326.0  371.0  316.0  259.0  160.0  338.0  "
      ]
     },
     "execution_count": 23,
     "metadata": {},
     "output_type": "execute_result"
    }
   ],
   "source": [
    "df_estimator"
   ]
  },
  {
   "cell_type": "code",
   "execution_count": 24,
   "metadata": {
    "tags": []
   },
   "outputs": [],
   "source": [
    "list_estimator_xgb = df_estimator.median().tolist()"
   ]
  },
  {
   "cell_type": "markdown",
   "metadata": {},
   "source": [
    "## Retrain"
   ]
  },
  {
   "cell_type": "code",
   "execution_count": 25,
   "metadata": {
    "tags": []
   },
   "outputs": [],
   "source": [
    "xgb_params = {\n",
    "        'booster': 'gbtree',\n",
    "        'tree_method': 'gpu_hist',\n",
    "        'objective': 'binary:logistic',\n",
    "        'eval_metric': 'logloss',\n",
    "        'learning_rate': 0.02,\n",
    "        'alpha': 8,\n",
    "        'max_depth': 4,\n",
    "        'subsample': 0.8,\n",
    "        'colsample_bytree': 0.5,\n",
    "        'random_state': 42\n",
    "        }"
   ]
  },
  {
   "cell_type": "code",
   "execution_count": 26,
   "metadata": {
    "tags": []
   },
   "outputs": [],
   "source": [
    "PATH_MODEL_ALL_DATA = 'model/blend_for_psp/blend_gbdt/xgb_models/pre_group/{}'"
   ]
  },
  {
   "cell_type": "code",
   "execution_count": 27,
   "metadata": {
    "tags": []
   },
   "outputs": [
    {
     "name": "stdout",
     "output_type": "stream",
     "text": [
      "  question: 1, elapsed time：5.99 sec\"\n",
      "  question: 2, elapsed time：4.68 sec\"\n",
      "  question: 3, elapsed time：4.75 sec\"\n",
      "  question: 4, elapsed time：23.74 sec\"\n",
      "  question: 5, elapsed time：26.82 sec\"\n",
      "  question: 6, elapsed time：20.65 sec\"\n",
      "  question: 7, elapsed time：19.40 sec\"\n",
      "  question: 8, elapsed time：13.40 sec\"\n",
      "  question: 9, elapsed time：15.67 sec\"\n",
      "  question: 10, elapsed time：16.35 sec\"\n",
      "  question: 11, elapsed time：15.53 sec\"\n",
      "  question: 12, elapsed time：15.70 sec\"\n",
      "  question: 13, elapsed time：25.20 sec\"\n",
      "  question: 14, elapsed time：45.48 sec\"\n",
      "  question: 15, elapsed time：39.81 sec\"\n",
      "  question: 16, elapsed time：35.71 sec\"\n",
      "  question: 17, elapsed time：31.72 sec\"\n",
      "  question: 18, elapsed time：40.19 sec\"\n"
     ]
    }
   ],
   "source": [
    "for t in range(1, 19):\n",
    "    pre_exe = time.time()\n",
    "\n",
    "    # USE THIS TRAIN DATA WITH THESE QUESTIONS\n",
    "    if t <= 3: \n",
    "        grp = '0-4'\n",
    "    elif t <= 13: \n",
    "        grp = '5-12'\n",
    "    elif t <= 22: \n",
    "        grp = '13-22'\n",
    "\n",
    "    df = dict_modeling_info[grp]['df'].copy()\n",
    "    FEATURES = dict_modeling_info[grp]['feature'].copy()\n",
    "    list_feature_xgb = [f'q_{j}' for j in range(1, t)]\n",
    "    xgb_params['n_estimators'] = int(list_estimator_xgb[t-1])\n",
    "\n",
    "    # TRAIN DATA\n",
    "    df = pd.merge(df, targets.query(f'q == {t}')[['correct']], left_index=True, right_index=True, how='inner')\n",
    "\n",
    "    X_train = df[FEATURES].astype('float32')\n",
    "    y_train = df['correct']\n",
    "\n",
    "    clf = XGBClassifier(**xgb_params)\n",
    "    clf.fit(pd.merge(X_train, oof_xgb[list_feature_xgb], left_index=True, right_index=True, how='inner'), y_train, verbose=0)\n",
    "    clf.save_model(PATH_MODEL_ALL_DATA.format(f'XGB_question{t}.xgb'))\n",
    "\n",
    "    po_exe = time.time()\n",
    "\n",
    "    print(f'  question: {t}, elapsed time：{(po_exe - pre_exe):.2f} sec\"')\n",
    "\n",
    "    del df, X_train, y_train, clf, FEATURES\n",
    "    gc.collect()"
   ]
  },
  {
   "cell_type": "code",
   "execution_count": 29,
   "metadata": {
    "tags": []
   },
   "outputs": [
    {
     "data": {
      "text/plain": [
       "'/home/jovyan/kaggle/xgb_models.zip'"
      ]
     },
     "execution_count": 29,
     "metadata": {},
     "output_type": "execute_result"
    }
   ],
   "source": [
    "import shutil\n",
    "\n",
    "shutil.make_archive('xgb_models', format='zip', root_dir=f'model/xgb_model_for_psp/{experiment_name}')"
   ]
  },
  {
   "cell_type": "code",
   "execution_count": null,
   "metadata": {},
   "outputs": [],
   "source": []
  }
 ],
 "metadata": {
  "kernelspec": {
   "display_name": "Python 3 (ipykernel)",
   "language": "python",
   "name": "python3"
  },
  "language_info": {
   "codemirror_mode": {
    "name": "ipython",
    "version": 3
   },
   "file_extension": ".py",
   "mimetype": "text/x-python",
   "name": "python",
   "nbconvert_exporter": "python",
   "pygments_lexer": "ipython3",
   "version": "3.8.12"
  }
 },
 "nbformat": 4,
 "nbformat_minor": 4
}

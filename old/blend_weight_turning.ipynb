{
 "cells": [
  {
   "cell_type": "code",
   "execution_count": 1,
   "metadata": {
    "tags": []
   },
   "outputs": [],
   "source": [
    "import os\n",
    "os.chdir('/home/jovyan/kaggle/')"
   ]
  },
  {
   "cell_type": "code",
   "execution_count": 2,
   "metadata": {
    "tags": []
   },
   "outputs": [],
   "source": [
    "import pandas as pd\n",
    "\n",
    "from function.config import *\n",
    "from function.functions_20230610 import *\n",
    "\n",
    "import warnings\n",
    "warnings.filterwarnings('ignore')"
   ]
  },
  {
   "cell_type": "code",
   "execution_count": 3,
   "metadata": {
    "tags": []
   },
   "outputs": [],
   "source": [
    "PATH_BASE_DIR = 'notebook/blend_gbdt/20230610_blend_baseline/out_of_fold/{}'"
   ]
  },
  {
   "cell_type": "code",
   "execution_count": 4,
   "metadata": {
    "tags": []
   },
   "outputs": [],
   "source": [
    "targets = MyFunctions.create_target_df(PATH_TRAIN_LABEL)"
   ]
  },
  {
   "cell_type": "code",
   "execution_count": 5,
   "metadata": {
    "tags": []
   },
   "outputs": [],
   "source": [
    "df_pre_raw = pd.read_csv(PATH_BASE_DIR.format('oof_pre_raw.csv'), index_col='session_id')\n",
    "df_pre_group = pd.read_csv(PATH_BASE_DIR.format('oof_pre_group.csv'), index_col='session_id')"
   ]
  },
  {
   "cell_type": "code",
   "execution_count": 6,
   "metadata": {
    "tags": []
   },
   "outputs": [
    {
     "name": "stdout",
     "output_type": "stream",
     "text": [
      "We will train with 23562 users info\n"
     ]
    }
   ],
   "source": [
    "ALL_USERS = df_pre_raw.index.unique()\n",
    "print('We will train with', len(ALL_USERS) ,'users info')"
   ]
  },
  {
   "cell_type": "code",
   "execution_count": 8,
   "metadata": {
    "tags": []
   },
   "outputs": [],
   "source": [
    "df_pre_raw['q_2'] = 1\n",
    "df_pre_raw['q_18'] = 1\n",
    "\n",
    "df_pre_group['q_2'] = 1\n",
    "df_pre_group['q_18'] = 1"
   ]
  },
  {
   "cell_type": "code",
   "execution_count": 9,
   "metadata": {
    "tags": []
   },
   "outputs": [],
   "source": [
    "weight_raw = 0.75\n",
    "weight_group = 0.25"
   ]
  },
  {
   "cell_type": "code",
   "execution_count": 10,
   "metadata": {
    "tags": []
   },
   "outputs": [],
   "source": [
    "df_blend = (df_pre_raw * weight_raw) + (df_pre_group * weight_group)"
   ]
  },
  {
   "cell_type": "code",
   "execution_count": 11,
   "metadata": {
    "tags": []
   },
   "outputs": [],
   "source": [
    "df_true = MyFunctions.create_compare_data(df_blend, targets.reset_index(), ALL_USERS)"
   ]
  },
  {
   "cell_type": "code",
   "execution_count": 12,
   "metadata": {
    "tags": []
   },
   "outputs": [
    {
     "name": "stdout",
     "output_type": "stream",
     "text": [
      "threshold: 0.500, score: 0.6729\n",
      "threshold: 0.505, score: 0.6751\n",
      "threshold: 0.510, score: 0.6769\n",
      "threshold: 0.515, score: 0.6787\n",
      "threshold: 0.520, score: 0.6804\n",
      "threshold: 0.525, score: 0.6821\n",
      "threshold: 0.530, score: 0.6835\n",
      "threshold: 0.535, score: 0.6852\n",
      "threshold: 0.540, score: 0.6864\n",
      "threshold: 0.545, score: 0.6878\n",
      "threshold: 0.550, score: 0.6890\n",
      "threshold: 0.555, score: 0.6904\n",
      "threshold: 0.560, score: 0.6915\n",
      "threshold: 0.565, score: 0.6926\n",
      "threshold: 0.570, score: 0.6937\n",
      "threshold: 0.575, score: 0.6949\n",
      "threshold: 0.580, score: 0.6961\n",
      "threshold: 0.585, score: 0.6969\n",
      "threshold: 0.590, score: 0.6976\n",
      "threshold: 0.595, score: 0.6980\n",
      "threshold: 0.600, score: 0.6987\n",
      "threshold: 0.605, score: 0.6990\n",
      "threshold: 0.610, score: 0.6995\n",
      "threshold: 0.615, score: 0.6997\n",
      "threshold: 0.620, score: 0.7001\n",
      "threshold: 0.625, score: 0.7005\n",
      "threshold: 0.630, score: 0.7003\n",
      "threshold: 0.635, score: 0.6999\n",
      "threshold: 0.640, score: 0.6996\n",
      "threshold: 0.645, score: 0.6993\n",
      "threshold: 0.650, score: 0.6984\n",
      "threshold: 0.655, score: 0.6975\n",
      "threshold: 0.660, score: 0.6962\n",
      "threshold: 0.665, score: 0.6951\n",
      "threshold: 0.670, score: 0.6940\n",
      "threshold: 0.675, score: 0.6924\n",
      "threshold: 0.680, score: 0.6912\n",
      "threshold: 0.685, score: 0.6896\n",
      "threshold: 0.690, score: 0.6876\n",
      "threshold: 0.695, score: 0.6855\n",
      "best threshold: 0.6250\n"
     ]
    }
   ],
   "source": [
    "MyFunctions.search_best_threshold(df_blend, df_true)"
   ]
  },
  {
   "cell_type": "code",
   "execution_count": 10,
   "metadata": {
    "tags": []
   },
   "outputs": [
    {
     "name": "stdout",
     "output_type": "stream",
     "text": [
      "threshold: 0.500, score: 0.6729\n",
      "threshold: 0.505, score: 0.6751\n",
      "threshold: 0.510, score: 0.6769\n",
      "threshold: 0.515, score: 0.6787\n",
      "threshold: 0.520, score: 0.6804\n",
      "threshold: 0.525, score: 0.6821\n",
      "threshold: 0.530, score: 0.6835\n",
      "threshold: 0.535, score: 0.6851\n",
      "threshold: 0.540, score: 0.6864\n",
      "threshold: 0.545, score: 0.6878\n",
      "threshold: 0.550, score: 0.6890\n",
      "threshold: 0.555, score: 0.6904\n",
      "threshold: 0.560, score: 0.6915\n",
      "threshold: 0.565, score: 0.6926\n",
      "threshold: 0.570, score: 0.6937\n",
      "threshold: 0.575, score: 0.6949\n",
      "threshold: 0.580, score: 0.6961\n",
      "threshold: 0.585, score: 0.6969\n",
      "threshold: 0.590, score: 0.6976\n",
      "threshold: 0.595, score: 0.6980\n",
      "threshold: 0.600, score: 0.6987\n",
      "threshold: 0.605, score: 0.6990\n",
      "threshold: 0.610, score: 0.6995\n",
      "threshold: 0.615, score: 0.6997\n",
      "threshold: 0.620, score: 0.7001\n",
      "threshold: 0.625, score: 0.7004\n",
      "threshold: 0.630, score: 0.7003\n",
      "threshold: 0.635, score: 0.6999\n",
      "threshold: 0.640, score: 0.6996\n",
      "threshold: 0.645, score: 0.6993\n",
      "threshold: 0.650, score: 0.6984\n",
      "threshold: 0.655, score: 0.6975\n",
      "threshold: 0.660, score: 0.6962\n",
      "threshold: 0.665, score: 0.6951\n",
      "threshold: 0.670, score: 0.6940\n",
      "threshold: 0.675, score: 0.6924\n",
      "threshold: 0.680, score: 0.6912\n",
      "threshold: 0.685, score: 0.6895\n",
      "threshold: 0.690, score: 0.6876\n",
      "threshold: 0.695, score: 0.6855\n",
      "best threshold: 0.6250\n"
     ]
    }
   ],
   "source": [
    "MyFunctions.search_best_threshold(df_blend, df_true)"
   ]
  },
  {
   "cell_type": "code",
   "execution_count": null,
   "metadata": {},
   "outputs": [],
   "source": []
  }
 ],
 "metadata": {
  "kernelspec": {
   "display_name": "Python 3 (ipykernel)",
   "language": "python",
   "name": "python3"
  },
  "language_info": {
   "codemirror_mode": {
    "name": "ipython",
    "version": 3
   },
   "file_extension": ".py",
   "mimetype": "text/x-python",
   "name": "python",
   "nbconvert_exporter": "python",
   "pygments_lexer": "ipython3",
   "version": "3.8.12"
  }
 },
 "nbformat": 4,
 "nbformat_minor": 4
}

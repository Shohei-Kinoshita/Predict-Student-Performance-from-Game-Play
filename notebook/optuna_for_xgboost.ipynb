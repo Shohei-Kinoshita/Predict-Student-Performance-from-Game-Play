{
 "cells": [
  {
   "cell_type": "code",
   "execution_count": 1,
   "metadata": {
    "_cell_guid": "b1076dfc-b9ad-4769-8c92-a6c4dae69d19",
    "_uuid": "8f2839f25d086af736a60e9eeb907d3b93b6e0e5",
    "execution": {
     "iopub.execute_input": "2023-05-25T12:25:23.416034Z",
     "iopub.status.busy": "2023-05-25T12:25:23.415226Z",
     "iopub.status.idle": "2023-05-25T12:25:27.717472Z",
     "shell.execute_reply": "2023-05-25T12:25:27.715991Z",
     "shell.execute_reply.started": "2023-05-25T12:25:23.415986Z"
    }
   },
   "outputs": [
    {
     "name": "stderr",
     "output_type": "stream",
     "text": [
      "/opt/conda/lib/python3.10/site-packages/scipy/__init__.py:146: UserWarning: A NumPy version >=1.16.5 and <1.23.0 is required for this version of SciPy (detected version 1.23.5\n",
      "  warnings.warn(f\"A NumPy version >={np_minversion} and <{np_maxversion}\"\n"
     ]
    }
   ],
   "source": [
    "import json\n",
    "\n",
    "import pandas as pd\n",
    "import numpy as np\n",
    "import warnings\n",
    "import optuna\n",
    "\n",
    "from xgboost import XGBClassifier\n",
    "from sklearn.model_selection import KFold, GroupKFold\n",
    "from sklearn.metrics import f1_score\n",
    "\n",
    "import warnings\n",
    "warnings.filterwarnings('ignore')"
   ]
  },
  {
   "cell_type": "code",
   "execution_count": 2,
   "metadata": {
    "execution": {
     "iopub.execute_input": "2023-05-25T12:25:27.722230Z",
     "iopub.status.busy": "2023-05-25T12:25:27.721457Z",
     "iopub.status.idle": "2023-05-25T12:25:27.735141Z",
     "shell.execute_reply": "2023-05-25T12:25:27.733724Z",
     "shell.execute_reply.started": "2023-05-25T12:25:27.722178Z"
    }
   },
   "outputs": [],
   "source": [
    "def search_best_threshold(df_preds, df_true, start=0.6, end=0.7, step=0.005):\n",
    "    \"\"\"search best threshol f1score\"\"\"\n",
    "    scores = []\n",
    "    thresholds = []\n",
    "    best_score = 0\n",
    "    for threshold in np.arange(start, end, step):\n",
    "        preds = (df_preds.values.reshape((-1)) > threshold).astype('int')\n",
    "        m = f1_score(df_true.values.reshape((-1)), preds, average='macro')\n",
    "        scores.append(m)\n",
    "        thresholds.append(threshold)\n",
    "        if m > best_score:\n",
    "            best_score = m\n",
    "            best_threshold = threshold\n",
    "    return best_score\n",
    "\n",
    "\n",
    "def create_compare_data(df, df_target, all_users):\n",
    "    \"\"\"create compare score data for search thresold\"\"\"\n",
    "    df_true = df.copy()\n",
    "    for k in range(1, 19):\n",
    "        tmp = df_target.loc[df_target.q == k].set_index('session').loc[all_users]\n",
    "        df_true[f'q_{k}'] = tmp.correct.values\n",
    "    return df_true"
   ]
  },
  {
   "cell_type": "code",
   "execution_count": 3,
   "metadata": {
    "execution": {
     "iopub.execute_input": "2023-05-25T12:25:27.744670Z",
     "iopub.status.busy": "2023-05-25T12:25:27.744205Z",
     "iopub.status.idle": "2023-05-25T12:25:53.662585Z",
     "shell.execute_reply": "2023-05-25T12:25:53.661228Z",
     "shell.execute_reply.started": "2023-05-25T12:25:27.744626Z"
    }
   },
   "outputs": [],
   "source": [
    "PATH_BASE = '/kaggle/input/psp-dataset-for-optuna/{}'\n",
    "PATH_USR_FEATURE = PATH_BASE.format('use_features.json')\n",
    "PATH_DATABASE = '/kaggle/input/optuna-database/optuna_study.db'\n",
    "\n",
    "\n",
    "df1 = pd.read_csv(PATH_BASE.format('df1.csv'), index_col='session_id')\n",
    "df2 = pd.read_csv(PATH_BASE.format('df2.csv'), index_col='session_id')\n",
    "df3 = pd.read_csv(PATH_BASE.format('df3.csv'), index_col='session_id')\n",
    "targets = pd.read_csv(PATH_BASE.format('targets.csv'), index_col='session')\n",
    "\n",
    "with open(PATH_USR_FEATURE, mode='r') as fp:\n",
    "    dict_use_feature = json.load(fp)\n",
    "\n",
    "list_feautres_df1 = dict_use_feature['0-4']\n",
    "list_feautres_df2 = dict_use_feature['5-12']\n",
    "list_feautres_df3 = dict_use_feature['13-22']"
   ]
  },
  {
   "cell_type": "code",
   "execution_count": 4,
   "metadata": {
    "execution": {
     "iopub.execute_input": "2023-05-25T12:25:53.664929Z",
     "iopub.status.busy": "2023-05-25T12:25:53.664556Z",
     "iopub.status.idle": "2023-05-25T12:25:53.671416Z",
     "shell.execute_reply": "2023-05-25T12:25:53.669413Z",
     "shell.execute_reply.started": "2023-05-25T12:25:53.664897Z"
    }
   },
   "outputs": [],
   "source": [
    "dict_modeling_info = {\n",
    "    '0-4': {\n",
    "        'df': df1,\n",
    "        'feature': list_feautres_df1,\n",
    "    },\n",
    "    '5-12': {\n",
    "        'df': df2,\n",
    "        'feature': list_feautres_df2,\n",
    "    },\n",
    "    '13-22': {\n",
    "        'df': df3,\n",
    "        'feature': list_feautres_df3\n",
    "    }\n",
    "}"
   ]
  },
  {
   "cell_type": "code",
   "execution_count": 6,
   "metadata": {
    "execution": {
     "iopub.execute_input": "2023-05-25T12:35:48.030593Z",
     "iopub.status.busy": "2023-05-25T12:35:48.030095Z",
     "iopub.status.idle": "2023-05-25T12:35:48.038349Z",
     "shell.execute_reply": "2023-05-25T12:35:48.036811Z",
     "shell.execute_reply.started": "2023-05-25T12:35:48.030556Z"
    }
   },
   "outputs": [
    {
     "name": "stdout",
     "output_type": "stream",
     "text": [
      "We will train with 23562 users info\n"
     ]
    }
   ],
   "source": [
    "ALL_USERS = df1.index.unique()\n",
    "print('We will train with', len(ALL_USERS) ,'users info')"
   ]
  },
  {
   "cell_type": "code",
   "execution_count": 7,
   "metadata": {
    "execution": {
     "iopub.execute_input": "2023-05-25T12:35:51.962378Z",
     "iopub.status.busy": "2023-05-25T12:35:51.961941Z",
     "iopub.status.idle": "2023-05-25T12:35:51.982245Z",
     "shell.execute_reply": "2023-05-25T12:35:51.980872Z",
     "shell.execute_reply.started": "2023-05-25T12:35:51.962345Z"
    }
   },
   "outputs": [],
   "source": [
    "def objective(trial):\n",
    "    pred_xgb = pd.DataFrame(np.zeros((df1.shape[0], 18)), columns=[f'q_{i}' for i in range(1, 19)], index=df1.index)\n",
    "    kf = KFold(n_splits=5, shuffle=True, random_state=0)\n",
    "    lgb_params = {\n",
    "        'boosting_type': 'gbdt',\n",
    "        'objective': 'binary',\n",
    "        'metric': 'binary_logloss',\n",
    "        'n_estimators': 1500,\n",
    "        'random_state': 42,\n",
    "        'learning_rate': trial.suggest_loguniform('leraning_rate', 0.005, 0.1),\n",
    "        'reg_alpha': trial.suggest_loguniform('alpha', 1e-3, 10.0),\n",
    "        'reg_lambda': trial.suggest_loguniform('reg_lambda', 1e-3, 10.0),\n",
    "        'max_depth': trial.suggest_int(\"max_depth\", 2, 8),\n",
    "        'subsample': trial.suggest_categorical('subsample', [0.5, 0.6, 0.7, 0.8, 0.9]),\n",
    "        'colsample_bytree': trial.suggest_float('colsample_bytree', 0.3, 1.0),\n",
    "        'subsample_freq': trial.suggest_int(\"subsample_freq\", 0, 10),\n",
    "        'num_leaves': trial.suggest_int(\"num_leaves\", 10, 40),\n",
    "    }\n",
    "    for t in range(1, 19):\n",
    "        # USE THIS TRAIN DATA WITH THESE QUESTIONS\n",
    "        if t <= 3:\n",
    "            grp = '0-4'\n",
    "        elif t <= 13:\n",
    "            grp = '5-12'\n",
    "        elif t <= 22:\n",
    "            grp = '13-22'\n",
    "\n",
    "        df = dict_modeling_info[grp]['df'].copy()\n",
    "        FEATURES = dict_modeling_info[grp]['feature'].copy()\n",
    "        FEATURES += [f'q_{j}' for j in range(1, t)]\n",
    "\n",
    "        # TRAIN DATA\n",
    "        df = pd.merge(df, targets.query(f'q == {t}')[['correct']], left_index=True, right_index=True, how='inner')\n",
    "        df = pd.merge(df, pred_xgb, left_index=True, right_index=True, how='inner')\n",
    "\n",
    "        for i, (train_idx, valid_idx) in enumerate(kf.split(df), start=1):\n",
    "            df_train, df_valid = df.iloc[train_idx], df.iloc[valid_idx]\n",
    "\n",
    "            X_train = df_train[FEATURES].astype('float32')\n",
    "            y_train = df_train['correct']\n",
    "            X_valid = df_valid[FEATURES].astype('float32')\n",
    "            y_valid = df_valid['correct']\n",
    "\n",
    "            clf = LGBMClassifier(**lgb_params)\n",
    "            clf.fit(X_train, y_train, early_stopping_rounds=30, eval_metric='binary_logloss', eval_set=[(X_valid, y_valid)], verbose=0)\n",
    "\n",
    "            pred = clf.predict_proba(X_valid, num_iteration=clf.best_iteration_)[:, 1]\n",
    "\n",
    "            pred_xgb.iloc[valid_idx, t-1] = pred\n",
    "\n",
    "            del X_train, X_valid, y_train, y_valid, clf, pred\n",
    "\n",
    "        del df\n",
    "\n",
    "    df_true = create_compare_data(pred_xgb, targets.reset_index(), ALL_USERS)\n",
    "    score = search_best_threshold(pred_xgb, df_true)\n",
    "    return score"
   ]
  },
  {
   "cell_type": "code",
   "execution_count": 8,
   "metadata": {
    "execution": {
     "iopub.execute_input": "2023-05-25T12:36:01.166381Z",
     "iopub.status.busy": "2023-05-25T12:36:01.165600Z",
     "iopub.status.idle": "2023-05-25T12:36:01.954128Z",
     "shell.execute_reply": "2023-05-25T12:36:01.952612Z",
     "shell.execute_reply.started": "2023-05-25T12:36:01.166337Z"
    }
   },
   "outputs": [
    {
     "name": "stderr",
     "output_type": "stream",
     "text": [
      "\u001b[32m[I 2023-05-25 12:36:01,943]\u001b[0m A new study created in RDB with name: lgb-params\u001b[0m\n"
     ]
    }
   ],
   "source": [
    "study = optuna.create_study(\n",
    "    storage='sqlite:///optuna_study.db',\n",
    "    study_name=\"lgb-params\",\n",
    "    load_if_exists=True,\n",
    "    direction='maximize'\n",
    ")"
   ]
  },
  {
   "cell_type": "code",
   "execution_count": null,
   "metadata": {
    "execution": {
     "iopub.execute_input": "2023-05-21T12:48:20.401591Z",
     "iopub.status.busy": "2023-05-21T12:48:20.400963Z",
     "iopub.status.idle": "2023-05-21T23:35:19.211008Z",
     "shell.execute_reply": "2023-05-21T23:35:19.210089Z",
     "shell.execute_reply.started": "2023-05-21T12:48:20.401545Z"
    }
   },
   "outputs": [],
   "source": [
    "study.optimize(objective, timeout=60*60*10, n_jobs=2)"
   ]
  }
 ],
 "metadata": {
  "kernelspec": {
   "display_name": "Python 3 (ipykernel)",
   "language": "python",
   "name": "python3"
  },
  "language_info": {
   "codemirror_mode": {
    "name": "ipython",
    "version": 3
   },
   "file_extension": ".py",
   "mimetype": "text/x-python",
   "name": "python",
   "nbconvert_exporter": "python",
   "pygments_lexer": "ipython3",
   "version": "3.8.12"
  }
 },
 "nbformat": 4,
 "nbformat_minor": 4
}

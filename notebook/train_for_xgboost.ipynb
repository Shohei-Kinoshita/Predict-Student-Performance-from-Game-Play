{
 "cells": [
  {
   "cell_type": "code",
   "execution_count": 1,
   "metadata": {
    "tags": []
   },
   "outputs": [],
   "source": [
    "import os\n",
    "os.chdir('/home/jovyan/kaggle/')"
   ]
  },
  {
   "cell_type": "code",
   "execution_count": 3,
   "metadata": {
    "tags": []
   },
   "outputs": [],
   "source": [
    "import gc\n",
    "import time\n",
    "import json\n",
    "\n",
    "import pandas as pd\n",
    "import numpy as np\n",
    "import warnings\n",
    "import pickle\n",
    "import polars as pl\n",
    "\n",
    "from xgboost import XGBClassifier\n",
    "\n",
    "from sklearn.model_selection import KFold, GroupKFold\n",
    "from sklearn.metrics import f1_score\n",
    "\n",
    "from function.config import *\n",
    "from function.functions import *\n",
    "\n",
    "import warnings\n",
    "warnings.filterwarnings('ignore')"
   ]
  },
  {
   "cell_type": "code",
   "execution_count": 4,
   "metadata": {
    "tags": []
   },
   "outputs": [],
   "source": [
    "experiment_name = 'blend_gbdt'  # NOTE: 実験概要、フォルダ名になる\n",
    "\n",
    "PATH_BASE_DIR = 'model/blend_for_psp/{}/'\n",
    "PATH_MODEL_XGB = PATH_BASE_DIR + 'xgb_models/fold{}/XGB_question{}.xgb'\n",
    "PATH_FEATURE_SET = PATH_BASE_DIR + 'pre_raw_features.json'"
   ]
  },
  {
   "cell_type": "code",
   "execution_count": 20,
   "metadata": {
    "tags": []
   },
   "outputs": [],
   "source": [
    "xgb_params = {\n",
    "        'booster': 'gbtree',\n",
    "        'tree_method': 'gpu_hist',\n",
    "        'objective': 'binary:logistic',\n",
    "        'eval_metric': 'logloss',\n",
    "        'learning_rate': 0.00960959386767139,\n",
    "        'alpha': 9.669859706518814,\n",
    "        'max_depth': 6,\n",
    "        'subsample': 0.7,\n",
    "        'colsample_bytree': 0.6241523164895888,\n",
    "        'min_child_weight': 8,\n",
    "        'lambda': 0.005372872139468915,\n",
    "        'max_delta_step': 4,\n",
    "        'n_estimators': 1500,\n",
    "        'random_state': 42\n",
    "        }"
   ]
  },
  {
   "cell_type": "code",
   "execution_count": 5,
   "metadata": {
    "tags": []
   },
   "outputs": [],
   "source": [
    "# フォルダ作成\n",
    "list_model_dir = ['xgb_models']\n",
    "for fold in range(1, 6):\n",
    "    for model_name in list_model_dir:\n",
    "        os.makedirs(PATH_BASE_DIR.format(experiment_name) + f'{model_name}/fold{fold}', exist_ok=True)"
   ]
  },
  {
   "cell_type": "code",
   "execution_count": 6,
   "metadata": {
    "tags": []
   },
   "outputs": [
    {
     "name": "stdout",
     "output_type": "stream",
     "text": [
      "CPU times: user 26.2 s, sys: 18.8 s, total: 45 s\n",
      "Wall time: 1min 26s\n"
     ]
    }
   ],
   "source": [
    "%%time\n",
    "df = pl.read_csv(PATH_TRAIN)\n",
    "targets = MyFunctions.create_target_df(PATH_TRAIN_LABEL)"
   ]
  },
  {
   "cell_type": "code",
   "execution_count": 7,
   "metadata": {
    "tags": []
   },
   "outputs": [
    {
     "name": "stdout",
     "output_type": "stream",
     "text": [
      "CPU times: user 16.2 s, sys: 17.7 s, total: 33.9 s\n",
      "Wall time: 14.8 s\n"
     ]
    }
   ],
   "source": [
    "%%time\n",
    "df = MyFunctions.preprocessing_pl(df)\n",
    "df1, df2, df3 = MyFunctions.split_dataframe_by_level_group(df)"
   ]
  },
  {
   "cell_type": "code",
   "execution_count": 8,
   "metadata": {
    "tags": []
   },
   "outputs": [],
   "source": [
    "df2 = pl.concat([df1, df2])\n",
    "df3 = pl.concat([df2, df3])"
   ]
  },
  {
   "cell_type": "code",
   "execution_count": 9,
   "metadata": {
    "tags": []
   },
   "outputs": [
    {
     "name": "stdout",
     "output_type": "stream",
     "text": [
      "df1 shape: (3981005, 20)\n",
      "df2 shape: (12825243, 20)\n",
      "df3 shape: (26296946, 20)\n"
     ]
    }
   ],
   "source": [
    "print(f'df1 shape: {df1.shape}')\n",
    "print(f'df2 shape: {df2.shape}')\n",
    "print(f'df3 shape: {df3.shape}')"
   ]
  },
  {
   "cell_type": "code",
   "execution_count": 10,
   "metadata": {
    "editable": false,
    "tags": []
   },
   "outputs": [
    {
     "data": {
      "text/plain": [
       "0"
      ]
     },
     "execution_count": 10,
     "metadata": {},
     "output_type": "execute_result"
    }
   ],
   "source": [
    "del df\n",
    "gc.collect()"
   ]
  },
  {
   "cell_type": "code",
   "execution_count": 11,
   "metadata": {
    "tags": []
   },
   "outputs": [
    {
     "name": "stdout",
     "output_type": "stream",
     "text": [
      "df1 done (23562, 2101)\n",
      "df2 done (23562, 2154)\n",
      "df3 done (23562, 2205)\n",
      "CPU times: user 12min 32s, sys: 21.8 s, total: 12min 54s\n",
      "Wall time: 3min 31s\n"
     ]
    }
   ],
   "source": [
    "%%time\n",
    "df1 = MyFunctions.feature_engineer_pl(df1, grp='0-4', use_extra=True, feature_suffix='')\n",
    "print('df1 done',df1.shape)\n",
    "df2 = MyFunctions.feature_engineer_pl(df2, grp='5-12', use_extra=True, feature_suffix='')\n",
    "print('df2 done',df2.shape)\n",
    "df3 = MyFunctions.feature_engineer_pl(df3, grp='13-22', use_extra=True, feature_suffix='')\n",
    "print('df3 done',df3.shape)"
   ]
  },
  {
   "cell_type": "code",
   "execution_count": 12,
   "metadata": {
    "tags": []
   },
   "outputs": [],
   "source": [
    "df1 = MyFunctions.time_feature(df1)\n",
    "df2 = MyFunctions.time_feature(df2)\n",
    "df3 = MyFunctions.time_feature(df3)"
   ]
  },
  {
   "cell_type": "code",
   "execution_count": 13,
   "metadata": {
    "tags": []
   },
   "outputs": [
    {
     "data": {
      "text/html": [
       "<div>\n",
       "<style scoped>\n",
       "    .dataframe tbody tr th:only-of-type {\n",
       "        vertical-align: middle;\n",
       "    }\n",
       "\n",
       "    .dataframe tbody tr th {\n",
       "        vertical-align: top;\n",
       "    }\n",
       "\n",
       "    .dataframe thead th {\n",
       "        text-align: right;\n",
       "    }\n",
       "</style>\n",
       "<table border=\"1\" class=\"dataframe\">\n",
       "  <thead>\n",
       "    <tr style=\"text-align: right;\">\n",
       "      <th></th>\n",
       "      <th>session_id</th>\n",
       "      <th>session_number_</th>\n",
       "      <th>null_count</th>\n",
       "      <th>page_change_count</th>\n",
       "      <th>question_count</th>\n",
       "      <th>block_count</th>\n",
       "      <th>recap_count</th>\n",
       "      <th>lost_count</th>\n",
       "      <th>event_name_unique_</th>\n",
       "      <th>name_unique_</th>\n",
       "      <th>...</th>\n",
       "      <th>slip_click_duration</th>\n",
       "      <th>slip_click_indexCount</th>\n",
       "      <th>shirt_era_search_duration</th>\n",
       "      <th>shirt_era_search_indexCount</th>\n",
       "      <th>year</th>\n",
       "      <th>month</th>\n",
       "      <th>day</th>\n",
       "      <th>hour</th>\n",
       "      <th>minute</th>\n",
       "      <th>second</th>\n",
       "    </tr>\n",
       "  </thead>\n",
       "  <tbody>\n",
       "    <tr>\n",
       "      <th>0</th>\n",
       "      <td>20090312431273200</td>\n",
       "      <td>165</td>\n",
       "      <td>103</td>\n",
       "      <td>15</td>\n",
       "      <td>13</td>\n",
       "      <td>0</td>\n",
       "      <td>0</td>\n",
       "      <td>0</td>\n",
       "      <td>10</td>\n",
       "      <td>3</td>\n",
       "      <td>...</td>\n",
       "      <td>4512</td>\n",
       "      <td>5</td>\n",
       "      <td>7916</td>\n",
       "      <td>3</td>\n",
       "      <td>20</td>\n",
       "      <td>10</td>\n",
       "      <td>3</td>\n",
       "      <td>12</td>\n",
       "      <td>43</td>\n",
       "      <td>12</td>\n",
       "    </tr>\n",
       "    <tr>\n",
       "      <th>1</th>\n",
       "      <td>20090312433251036</td>\n",
       "      <td>139</td>\n",
       "      <td>78</td>\n",
       "      <td>10</td>\n",
       "      <td>11</td>\n",
       "      <td>2</td>\n",
       "      <td>0</td>\n",
       "      <td>0</td>\n",
       "      <td>11</td>\n",
       "      <td>4</td>\n",
       "      <td>...</td>\n",
       "      <td>8267</td>\n",
       "      <td>4</td>\n",
       "      <td>9691</td>\n",
       "      <td>13</td>\n",
       "      <td>20</td>\n",
       "      <td>10</td>\n",
       "      <td>3</td>\n",
       "      <td>12</td>\n",
       "      <td>43</td>\n",
       "      <td>32</td>\n",
       "    </tr>\n",
       "    <tr>\n",
       "      <th>2</th>\n",
       "      <td>20090312455206810</td>\n",
       "      <td>149</td>\n",
       "      <td>73</td>\n",
       "      <td>16</td>\n",
       "      <td>12</td>\n",
       "      <td>0</td>\n",
       "      <td>0</td>\n",
       "      <td>0</td>\n",
       "      <td>9</td>\n",
       "      <td>3</td>\n",
       "      <td>...</td>\n",
       "      <td>5934</td>\n",
       "      <td>4</td>\n",
       "      <td>9783</td>\n",
       "      <td>3</td>\n",
       "      <td>20</td>\n",
       "      <td>10</td>\n",
       "      <td>3</td>\n",
       "      <td>12</td>\n",
       "      <td>45</td>\n",
       "      <td>52</td>\n",
       "    </tr>\n",
       "  </tbody>\n",
       "</table>\n",
       "<p>3 rows × 2107 columns</p>\n",
       "</div>"
      ],
      "text/plain": [
       "          session_id  session_number_  null_count  page_change_count  \\\n",
       "0  20090312431273200              165         103                 15   \n",
       "1  20090312433251036              139          78                 10   \n",
       "2  20090312455206810              149          73                 16   \n",
       "\n",
       "   question_count  block_count  recap_count  lost_count  event_name_unique_  \\\n",
       "0              13            0            0           0                  10   \n",
       "1              11            2            0           0                  11   \n",
       "2              12            0            0           0                   9   \n",
       "\n",
       "   name_unique_  ...  slip_click_duration  slip_click_indexCount  \\\n",
       "0             3  ...                 4512                      5   \n",
       "1             4  ...                 8267                      4   \n",
       "2             3  ...                 5934                      4   \n",
       "\n",
       "   shirt_era_search_duration  shirt_era_search_indexCount  year  month  day  \\\n",
       "0                       7916                            3    20     10    3   \n",
       "1                       9691                           13    20     10    3   \n",
       "2                       9783                            3    20     10    3   \n",
       "\n",
       "   hour  minute  second  \n",
       "0    12      43      12  \n",
       "1    12      43      32  \n",
       "2    12      45      52  \n",
       "\n",
       "[3 rows x 2107 columns]"
      ]
     },
     "execution_count": 13,
     "metadata": {},
     "output_type": "execute_result"
    }
   ],
   "source": [
    "df1.head(3)"
   ]
  },
  {
   "cell_type": "code",
   "execution_count": 14,
   "metadata": {
    "tags": []
   },
   "outputs": [
    {
     "name": "stdout",
     "output_type": "stream",
     "text": [
      "df1 num_features: 674\n",
      "df2 num_features: 1311\n",
      "df3 num_features: 2006\n"
     ]
    }
   ],
   "source": [
    "list_feautres_df1 = MyFunctions.feature_selection(df1)\n",
    "list_feautres_df2 = MyFunctions.feature_selection(df2)\n",
    "list_feautres_df3 = MyFunctions.feature_selection(df3)\n",
    "\n",
    "print(f'df1 num_features: {len(list_feautres_df1)}')\n",
    "print(f'df2 num_features: {len(list_feautres_df2)}')\n",
    "print(f'df3 num_features: {len(list_feautres_df3)}')"
   ]
  },
  {
   "cell_type": "code",
   "execution_count": 15,
   "metadata": {
    "tags": []
   },
   "outputs": [
    {
     "name": "stdout",
     "output_type": "stream",
     "text": [
      "We will train with 23562 users info\n"
     ]
    }
   ],
   "source": [
    "ALL_USERS = df1.index.unique()\n",
    "print('We will train with', len(ALL_USERS) ,'users info')"
   ]
  },
  {
   "cell_type": "code",
   "execution_count": 17,
   "metadata": {
    "tags": []
   },
   "outputs": [],
   "source": [
    "list_level_group = ['0-4', '5-12', '13-22']\n",
    "MyFunctions.dump_feature_list_to_json(list_level_group,\n",
    "                                      [list_feautres_df1, list_feautres_df2, list_feautres_df3],\n",
    "                                      PATH_FEATURE_SET.format(experiment_name)\n",
    "                                     )"
   ]
  },
  {
   "cell_type": "code",
   "execution_count": 18,
   "metadata": {
    "tags": []
   },
   "outputs": [],
   "source": [
    "dict_modeling_info = {\n",
    "    '0-4': {\n",
    "        'df': df1,\n",
    "        'feature': list_feautres_df1,\n",
    "    },\n",
    "    '5-12': {\n",
    "        'df': df2,\n",
    "        'feature': list_feautres_df2,\n",
    "    },\n",
    "    '13-22': {\n",
    "        'df': df3,\n",
    "        'feature': list_feautres_df3\n",
    "    }\n",
    "}"
   ]
  },
  {
   "cell_type": "code",
   "execution_count": 19,
   "metadata": {
    "tags": []
   },
   "outputs": [],
   "source": [
    "def train_xgb(X_train, y_train, X_valid, y_valid, params, experiment_name, num_fold, num_question, is_save=True):\n",
    "    clf = XGBClassifier(**params)\n",
    "    clf.fit(X_train, y_train, early_stopping_rounds=30, eval_set=[[X_valid, y_valid]], verbose=0)\n",
    "    if is_save:\n",
    "        clf.save_model(PATH_MODEL_XGB.format(experiment_name, num_fold, num_question))\n",
    "    return clf"
   ]
  },
  {
   "cell_type": "code",
   "execution_count": 21,
   "metadata": {
    "tags": []
   },
   "outputs": [
    {
     "name": "stdout",
     "output_type": "stream",
     "text": [
      "question: 1\n",
      "  elapsed time：83.33 sec\n",
      "question: 2\n",
      "  elapsed time：53.33 sec\n",
      "question: 3\n",
      "  elapsed time：56.18 sec\n",
      "question: 4\n",
      "  elapsed time：190.52 sec\n",
      "question: 5\n",
      "  elapsed time：172.67 sec\n",
      "question: 6\n",
      "  elapsed time：140.08 sec\n",
      "question: 7\n",
      "  elapsed time：147.74 sec\n",
      "question: 8\n",
      "  elapsed time：108.65 sec\n",
      "question: 9\n",
      "  elapsed time：132.06 sec\n",
      "question: 10\n",
      "  elapsed time：114.06 sec\n",
      "question: 11\n",
      "  elapsed time：121.15 sec\n",
      "question: 12\n",
      "  elapsed time：117.86 sec\n",
      "question: 13\n",
      "  elapsed time：151.16 sec\n",
      "question: 14\n",
      "  elapsed time：279.95 sec\n",
      "question: 15\n",
      "  elapsed time：255.93 sec\n",
      "question: 16\n",
      "  elapsed time：262.19 sec\n",
      "question: 17\n",
      "  elapsed time：207.35 sec\n",
      "question: 18\n",
      "  elapsed time：285.94 sec\n"
     ]
    }
   ],
   "source": [
    "oof_xgb = pd.DataFrame(np.zeros((df1.shape[0], 18)), columns=[f'q_{i}' for i in range(1, 19)], index=df1.index)\n",
    "df_estimator = pd.DataFrame(np.zeros((5, 18)), index=[i for i in range(1, 6)], columns=[i for i in range(1, 19)])\n",
    "kf = KFold(n_splits=5, shuffle=True, random_state=0)\n",
    "\n",
    "for t in range(1, 19):\n",
    "    print(f'question: {t}')\n",
    "    pre_exe = time.time()\n",
    "\n",
    "    # USE THIS TRAIN DATA WITH THESE QUESTIONS\n",
    "    if t <= 3:\n",
    "        grp = '0-4'\n",
    "    elif t <= 13:\n",
    "        grp = '5-12'\n",
    "    elif t <= 22:\n",
    "        grp = '13-22'\n",
    "\n",
    "    df = dict_modeling_info[grp]['df'].copy()\n",
    "    FEATURES = dict_modeling_info[grp]['feature'].copy()\n",
    "    list_feature_xgb = [f'q_{j}' for j in range(1, t)]\n",
    "\n",
    "    # TRAIN DATA\n",
    "    df = pd.merge(df, targets.query(f'q == {t}')[['correct']], left_index=True, right_index=True, how='inner')\n",
    "\n",
    "    for i, (train_idx, valid_idx) in enumerate(kf.split(df), start=1):\n",
    "        df_train, df_valid = df.iloc[train_idx], df.iloc[valid_idx]\n",
    "\n",
    "        X_train = df_train[FEATURES].astype('float32')\n",
    "        y_train = df_train['correct']\n",
    "        X_valid = df_valid[FEATURES].astype('float32')\n",
    "        y_valid = df_valid['correct']\n",
    "\n",
    "        # xgb part\n",
    "        clf_xgb = train_xgb(pd.merge(X_train, oof_xgb[list_feature_xgb], left_index=True, right_index=True, how='inner'),\n",
    "                            y_train,\n",
    "                            pd.merge(X_valid, oof_xgb[list_feature_xgb], left_index=True, right_index=True, how='inner'),\n",
    "                            y_valid,\n",
    "                            xgb_params,\n",
    "                            experiment_name,\n",
    "                            i,\n",
    "                            t,\n",
    "                            is_save=False\n",
    "                           )\n",
    "        pred_xgb = clf_xgb.predict_proba(pd.merge(X_valid, oof_xgb[list_feature_xgb], left_index=True, right_index=True, how='inner'),\n",
    "                                         ntree_limit=clf_xgb.best_ntree_limit)[:, 1]\n",
    "        df_estimator.loc[i, t] = clf_xgb.best_ntree_limit\n",
    "        oof_xgb.iloc[valid_idx, t-1] = pred_xgb\n",
    "\n",
    "        del df_train, df_valid, pred_xgb, clf_xgb\n",
    "        gc.collect()\n",
    "\n",
    "    po_exe = time.time()\n",
    "    print(f'  elapsed time：{(po_exe - pre_exe):.2f} sec')\n",
    "\n",
    "    del df, FEATURES\n",
    "    gc.collect()"
   ]
  },
  {
   "cell_type": "code",
   "execution_count": 22,
   "metadata": {
    "tags": []
   },
   "outputs": [
    {
     "data": {
      "text/html": [
       "<div>\n",
       "<style scoped>\n",
       "    .dataframe tbody tr th:only-of-type {\n",
       "        vertical-align: middle;\n",
       "    }\n",
       "\n",
       "    .dataframe tbody tr th {\n",
       "        vertical-align: top;\n",
       "    }\n",
       "\n",
       "    .dataframe thead th {\n",
       "        text-align: right;\n",
       "    }\n",
       "</style>\n",
       "<table border=\"1\" class=\"dataframe\">\n",
       "  <thead>\n",
       "    <tr style=\"text-align: right;\">\n",
       "      <th></th>\n",
       "      <th>q_1</th>\n",
       "      <th>q_2</th>\n",
       "      <th>q_3</th>\n",
       "      <th>q_4</th>\n",
       "      <th>q_5</th>\n",
       "      <th>q_6</th>\n",
       "      <th>q_7</th>\n",
       "      <th>q_8</th>\n",
       "      <th>q_9</th>\n",
       "      <th>q_10</th>\n",
       "      <th>q_11</th>\n",
       "      <th>q_12</th>\n",
       "      <th>q_13</th>\n",
       "      <th>q_14</th>\n",
       "      <th>q_15</th>\n",
       "      <th>q_16</th>\n",
       "      <th>q_17</th>\n",
       "      <th>q_18</th>\n",
       "    </tr>\n",
       "    <tr>\n",
       "      <th>session_id</th>\n",
       "      <th></th>\n",
       "      <th></th>\n",
       "      <th></th>\n",
       "      <th></th>\n",
       "      <th></th>\n",
       "      <th></th>\n",
       "      <th></th>\n",
       "      <th></th>\n",
       "      <th></th>\n",
       "      <th></th>\n",
       "      <th></th>\n",
       "      <th></th>\n",
       "      <th></th>\n",
       "      <th></th>\n",
       "      <th></th>\n",
       "      <th></th>\n",
       "      <th></th>\n",
       "      <th></th>\n",
       "    </tr>\n",
       "  </thead>\n",
       "  <tbody>\n",
       "    <tr>\n",
       "      <th>20090312431273200</th>\n",
       "      <td>0.944113</td>\n",
       "      <td>0.993159</td>\n",
       "      <td>0.985704</td>\n",
       "      <td>0.935773</td>\n",
       "      <td>0.796977</td>\n",
       "      <td>0.926246</td>\n",
       "      <td>0.929807</td>\n",
       "      <td>0.718161</td>\n",
       "      <td>0.890661</td>\n",
       "      <td>0.717115</td>\n",
       "      <td>0.836508</td>\n",
       "      <td>0.929435</td>\n",
       "      <td>0.284820</td>\n",
       "      <td>0.808157</td>\n",
       "      <td>0.634133</td>\n",
       "      <td>0.755693</td>\n",
       "      <td>0.749767</td>\n",
       "      <td>0.988918</td>\n",
       "    </tr>\n",
       "    <tr>\n",
       "      <th>20090312433251036</th>\n",
       "      <td>0.741728</td>\n",
       "      <td>0.990332</td>\n",
       "      <td>0.965375</td>\n",
       "      <td>0.380353</td>\n",
       "      <td>0.128906</td>\n",
       "      <td>0.369236</td>\n",
       "      <td>0.449623</td>\n",
       "      <td>0.439304</td>\n",
       "      <td>0.345582</td>\n",
       "      <td>0.195768</td>\n",
       "      <td>0.342304</td>\n",
       "      <td>0.616778</td>\n",
       "      <td>0.083193</td>\n",
       "      <td>0.227715</td>\n",
       "      <td>0.083953</td>\n",
       "      <td>0.593339</td>\n",
       "      <td>0.555617</td>\n",
       "      <td>0.739533</td>\n",
       "    </tr>\n",
       "    <tr>\n",
       "      <th>20090312455206810</th>\n",
       "      <td>0.841481</td>\n",
       "      <td>0.989023</td>\n",
       "      <td>0.974780</td>\n",
       "      <td>0.625307</td>\n",
       "      <td>0.533895</td>\n",
       "      <td>0.826690</td>\n",
       "      <td>0.718651</td>\n",
       "      <td>0.635132</td>\n",
       "      <td>0.781317</td>\n",
       "      <td>0.581375</td>\n",
       "      <td>0.735650</td>\n",
       "      <td>0.870692</td>\n",
       "      <td>0.613771</td>\n",
       "      <td>0.724804</td>\n",
       "      <td>0.410301</td>\n",
       "      <td>0.770940</td>\n",
       "      <td>0.817944</td>\n",
       "      <td>0.954410</td>\n",
       "    </tr>\n",
       "    <tr>\n",
       "      <th>20090313091715820</th>\n",
       "      <td>0.450119</td>\n",
       "      <td>0.972838</td>\n",
       "      <td>0.897018</td>\n",
       "      <td>0.855149</td>\n",
       "      <td>0.499551</td>\n",
       "      <td>0.747890</td>\n",
       "      <td>0.805842</td>\n",
       "      <td>0.547301</td>\n",
       "      <td>0.749403</td>\n",
       "      <td>0.509053</td>\n",
       "      <td>0.642932</td>\n",
       "      <td>0.914969</td>\n",
       "      <td>0.137790</td>\n",
       "      <td>0.746657</td>\n",
       "      <td>0.515091</td>\n",
       "      <td>0.697605</td>\n",
       "      <td>0.728738</td>\n",
       "      <td>0.982062</td>\n",
       "    </tr>\n",
       "    <tr>\n",
       "      <th>20090313571836404</th>\n",
       "      <td>0.961610</td>\n",
       "      <td>0.994103</td>\n",
       "      <td>0.990465</td>\n",
       "      <td>0.955303</td>\n",
       "      <td>0.844710</td>\n",
       "      <td>0.951527</td>\n",
       "      <td>0.908702</td>\n",
       "      <td>0.804003</td>\n",
       "      <td>0.913376</td>\n",
       "      <td>0.733289</td>\n",
       "      <td>0.795736</td>\n",
       "      <td>0.929450</td>\n",
       "      <td>0.530554</td>\n",
       "      <td>0.881548</td>\n",
       "      <td>0.665148</td>\n",
       "      <td>0.784182</td>\n",
       "      <td>0.764032</td>\n",
       "      <td>0.990626</td>\n",
       "    </tr>\n",
       "  </tbody>\n",
       "</table>\n",
       "</div>"
      ],
      "text/plain": [
       "                        q_1       q_2       q_3       q_4       q_5       q_6  \\\n",
       "session_id                                                                      \n",
       "20090312431273200  0.944113  0.993159  0.985704  0.935773  0.796977  0.926246   \n",
       "20090312433251036  0.741728  0.990332  0.965375  0.380353  0.128906  0.369236   \n",
       "20090312455206810  0.841481  0.989023  0.974780  0.625307  0.533895  0.826690   \n",
       "20090313091715820  0.450119  0.972838  0.897018  0.855149  0.499551  0.747890   \n",
       "20090313571836404  0.961610  0.994103  0.990465  0.955303  0.844710  0.951527   \n",
       "\n",
       "                        q_7       q_8       q_9      q_10      q_11      q_12  \\\n",
       "session_id                                                                      \n",
       "20090312431273200  0.929807  0.718161  0.890661  0.717115  0.836508  0.929435   \n",
       "20090312433251036  0.449623  0.439304  0.345582  0.195768  0.342304  0.616778   \n",
       "20090312455206810  0.718651  0.635132  0.781317  0.581375  0.735650  0.870692   \n",
       "20090313091715820  0.805842  0.547301  0.749403  0.509053  0.642932  0.914969   \n",
       "20090313571836404  0.908702  0.804003  0.913376  0.733289  0.795736  0.929450   \n",
       "\n",
       "                       q_13      q_14      q_15      q_16      q_17      q_18  \n",
       "session_id                                                                     \n",
       "20090312431273200  0.284820  0.808157  0.634133  0.755693  0.749767  0.988918  \n",
       "20090312433251036  0.083193  0.227715  0.083953  0.593339  0.555617  0.739533  \n",
       "20090312455206810  0.613771  0.724804  0.410301  0.770940  0.817944  0.954410  \n",
       "20090313091715820  0.137790  0.746657  0.515091  0.697605  0.728738  0.982062  \n",
       "20090313571836404  0.530554  0.881548  0.665148  0.784182  0.764032  0.990626  "
      ]
     },
     "execution_count": 22,
     "metadata": {},
     "output_type": "execute_result"
    }
   ],
   "source": [
    "oof_xgb.head()"
   ]
  },
  {
   "cell_type": "code",
   "execution_count": 23,
   "metadata": {
    "tags": []
   },
   "outputs": [],
   "source": [
    "df_true = MyFunctions.create_compare_data(oof_xgb, targets.reset_index(), ALL_USERS)"
   ]
  },
  {
   "cell_type": "code",
   "execution_count": 26,
   "metadata": {
    "tags": []
   },
   "outputs": [
    {
     "name": "stdout",
     "output_type": "stream",
     "text": [
      "threshold: 0.500, score: 0.6727\n",
      "threshold: 0.505, score: 0.6747\n",
      "threshold: 0.510, score: 0.6765\n",
      "threshold: 0.515, score: 0.6784\n",
      "threshold: 0.520, score: 0.6800\n",
      "threshold: 0.525, score: 0.6820\n",
      "threshold: 0.530, score: 0.6835\n",
      "threshold: 0.535, score: 0.6848\n",
      "threshold: 0.540, score: 0.6863\n",
      "threshold: 0.545, score: 0.6876\n",
      "threshold: 0.550, score: 0.6889\n",
      "threshold: 0.555, score: 0.6901\n",
      "threshold: 0.560, score: 0.6913\n",
      "threshold: 0.565, score: 0.6926\n",
      "threshold: 0.570, score: 0.6937\n",
      "threshold: 0.575, score: 0.6947\n",
      "threshold: 0.580, score: 0.6955\n",
      "threshold: 0.585, score: 0.6964\n",
      "threshold: 0.590, score: 0.6972\n",
      "threshold: 0.595, score: 0.6981\n",
      "threshold: 0.600, score: 0.6986\n",
      "threshold: 0.605, score: 0.6990\n",
      "threshold: 0.610, score: 0.6993\n",
      "threshold: 0.615, score: 0.6994\n",
      "threshold: 0.620, score: 0.6997\n",
      "threshold: 0.625, score: 0.6998\n",
      "threshold: 0.630, score: 0.6998\n",
      "threshold: 0.635, score: 0.6997\n",
      "threshold: 0.640, score: 0.6990\n",
      "threshold: 0.645, score: 0.6986\n",
      "threshold: 0.650, score: 0.6978\n",
      "threshold: 0.655, score: 0.6970\n",
      "threshold: 0.660, score: 0.6959\n",
      "threshold: 0.665, score: 0.6948\n",
      "threshold: 0.670, score: 0.6936\n",
      "threshold: 0.675, score: 0.6922\n",
      "threshold: 0.680, score: 0.6907\n",
      "threshold: 0.685, score: 0.6889\n",
      "threshold: 0.690, score: 0.6871\n",
      "threshold: 0.695, score: 0.6852\n",
      "best threshold: 0.6250\n"
     ]
    }
   ],
   "source": [
    "MyFunctions.search_best_threshold(oof_xgb, df_true)"
   ]
  },
  {
   "cell_type": "markdown",
   "metadata": {},
   "source": [
    "## estimator"
   ]
  },
  {
   "cell_type": "code",
   "execution_count": 27,
   "metadata": {
    "tags": []
   },
   "outputs": [
    {
     "data": {
      "text/html": [
       "<div>\n",
       "<style scoped>\n",
       "    .dataframe tbody tr th:only-of-type {\n",
       "        vertical-align: middle;\n",
       "    }\n",
       "\n",
       "    .dataframe tbody tr th {\n",
       "        vertical-align: top;\n",
       "    }\n",
       "\n",
       "    .dataframe thead th {\n",
       "        text-align: right;\n",
       "    }\n",
       "</style>\n",
       "<table border=\"1\" class=\"dataframe\">\n",
       "  <thead>\n",
       "    <tr style=\"text-align: right;\">\n",
       "      <th></th>\n",
       "      <th>1</th>\n",
       "      <th>2</th>\n",
       "      <th>3</th>\n",
       "      <th>4</th>\n",
       "      <th>5</th>\n",
       "      <th>6</th>\n",
       "      <th>7</th>\n",
       "      <th>8</th>\n",
       "      <th>9</th>\n",
       "      <th>10</th>\n",
       "      <th>11</th>\n",
       "      <th>12</th>\n",
       "      <th>13</th>\n",
       "      <th>14</th>\n",
       "      <th>15</th>\n",
       "      <th>16</th>\n",
       "      <th>17</th>\n",
       "      <th>18</th>\n",
       "    </tr>\n",
       "  </thead>\n",
       "  <tbody>\n",
       "    <tr>\n",
       "      <th>1</th>\n",
       "      <td>919.0</td>\n",
       "      <td>672.0</td>\n",
       "      <td>604.0</td>\n",
       "      <td>636.0</td>\n",
       "      <td>594.0</td>\n",
       "      <td>569.0</td>\n",
       "      <td>573.0</td>\n",
       "      <td>509.0</td>\n",
       "      <td>422.0</td>\n",
       "      <td>392.0</td>\n",
       "      <td>420.0</td>\n",
       "      <td>434.0</td>\n",
       "      <td>721.0</td>\n",
       "      <td>551.0</td>\n",
       "      <td>574.0</td>\n",
       "      <td>513.0</td>\n",
       "      <td>463.0</td>\n",
       "      <td>667.0</td>\n",
       "    </tr>\n",
       "    <tr>\n",
       "      <th>2</th>\n",
       "      <td>951.0</td>\n",
       "      <td>672.0</td>\n",
       "      <td>784.0</td>\n",
       "      <td>1158.0</td>\n",
       "      <td>730.0</td>\n",
       "      <td>564.0</td>\n",
       "      <td>432.0</td>\n",
       "      <td>360.0</td>\n",
       "      <td>450.0</td>\n",
       "      <td>425.0</td>\n",
       "      <td>442.0</td>\n",
       "      <td>435.0</td>\n",
       "      <td>560.0</td>\n",
       "      <td>507.0</td>\n",
       "      <td>515.0</td>\n",
       "      <td>533.0</td>\n",
       "      <td>354.0</td>\n",
       "      <td>799.0</td>\n",
       "    </tr>\n",
       "    <tr>\n",
       "      <th>3</th>\n",
       "      <td>653.0</td>\n",
       "      <td>732.0</td>\n",
       "      <td>655.0</td>\n",
       "      <td>848.0</td>\n",
       "      <td>588.0</td>\n",
       "      <td>528.0</td>\n",
       "      <td>762.0</td>\n",
       "      <td>330.0</td>\n",
       "      <td>538.0</td>\n",
       "      <td>366.0</td>\n",
       "      <td>454.0</td>\n",
       "      <td>504.0</td>\n",
       "      <td>477.0</td>\n",
       "      <td>608.0</td>\n",
       "      <td>373.0</td>\n",
       "      <td>674.0</td>\n",
       "      <td>384.0</td>\n",
       "      <td>739.0</td>\n",
       "    </tr>\n",
       "    <tr>\n",
       "      <th>4</th>\n",
       "      <td>942.0</td>\n",
       "      <td>749.0</td>\n",
       "      <td>689.0</td>\n",
       "      <td>601.0</td>\n",
       "      <td>879.0</td>\n",
       "      <td>566.0</td>\n",
       "      <td>549.0</td>\n",
       "      <td>339.0</td>\n",
       "      <td>543.0</td>\n",
       "      <td>403.0</td>\n",
       "      <td>448.0</td>\n",
       "      <td>549.0</td>\n",
       "      <td>678.0</td>\n",
       "      <td>471.0</td>\n",
       "      <td>568.0</td>\n",
       "      <td>565.0</td>\n",
       "      <td>386.0</td>\n",
       "      <td>603.0</td>\n",
       "    </tr>\n",
       "    <tr>\n",
       "      <th>5</th>\n",
       "      <td>935.0</td>\n",
       "      <td>919.0</td>\n",
       "      <td>554.0</td>\n",
       "      <td>718.0</td>\n",
       "      <td>624.0</td>\n",
       "      <td>480.0</td>\n",
       "      <td>505.0</td>\n",
       "      <td>355.0</td>\n",
       "      <td>548.0</td>\n",
       "      <td>409.0</td>\n",
       "      <td>422.0</td>\n",
       "      <td>463.0</td>\n",
       "      <td>551.0</td>\n",
       "      <td>648.0</td>\n",
       "      <td>489.0</td>\n",
       "      <td>448.0</td>\n",
       "      <td>369.0</td>\n",
       "      <td>671.0</td>\n",
       "    </tr>\n",
       "  </tbody>\n",
       "</table>\n",
       "</div>"
      ],
      "text/plain": [
       "      1      2      3       4      5      6      7      8      9      10  \\\n",
       "1  919.0  672.0  604.0   636.0  594.0  569.0  573.0  509.0  422.0  392.0   \n",
       "2  951.0  672.0  784.0  1158.0  730.0  564.0  432.0  360.0  450.0  425.0   \n",
       "3  653.0  732.0  655.0   848.0  588.0  528.0  762.0  330.0  538.0  366.0   \n",
       "4  942.0  749.0  689.0   601.0  879.0  566.0  549.0  339.0  543.0  403.0   \n",
       "5  935.0  919.0  554.0   718.0  624.0  480.0  505.0  355.0  548.0  409.0   \n",
       "\n",
       "      11     12     13     14     15     16     17     18  \n",
       "1  420.0  434.0  721.0  551.0  574.0  513.0  463.0  667.0  \n",
       "2  442.0  435.0  560.0  507.0  515.0  533.0  354.0  799.0  \n",
       "3  454.0  504.0  477.0  608.0  373.0  674.0  384.0  739.0  \n",
       "4  448.0  549.0  678.0  471.0  568.0  565.0  386.0  603.0  \n",
       "5  422.0  463.0  551.0  648.0  489.0  448.0  369.0  671.0  "
      ]
     },
     "execution_count": 27,
     "metadata": {},
     "output_type": "execute_result"
    }
   ],
   "source": [
    "df_estimator"
   ]
  },
  {
   "cell_type": "code",
   "execution_count": 28,
   "metadata": {
    "tags": []
   },
   "outputs": [],
   "source": [
    "list_estimator_xgb = df_estimator.median().tolist()"
   ]
  },
  {
   "cell_type": "markdown",
   "metadata": {},
   "source": [
    "## Retrain"
   ]
  },
  {
   "cell_type": "code",
   "execution_count": 42,
   "metadata": {
    "tags": []
   },
   "outputs": [],
   "source": [
    "PATH_MODEL_ALL_DATA = 'model/blend_for_psp/blend_gbdt/xgb_models/pre_raw/{}'"
   ]
  },
  {
   "cell_type": "code",
   "execution_count": 44,
   "metadata": {
    "tags": []
   },
   "outputs": [
    {
     "name": "stdout",
     "output_type": "stream",
     "text": [
      "  question: 1, elapsed time：15.04 sec\"\n",
      "  question: 2, elapsed time：8.87 sec\"\n",
      "  question: 3, elapsed time：9.78 sec\"\n",
      "  question: 4, elapsed time：33.56 sec\"\n",
      "  question: 5, elapsed time：30.84 sec\"\n",
      "  question: 6, elapsed time：27.35 sec\"\n",
      "  question: 7, elapsed time：28.00 sec\"\n",
      "  question: 8, elapsed time：19.60 sec\"\n",
      "  question: 9, elapsed time：26.73 sec\"\n",
      "  question: 10, elapsed time：22.02 sec\"\n",
      "  question: 11, elapsed time：23.57 sec\"\n",
      "  question: 12, elapsed time：22.54 sec\"\n",
      "  question: 13, elapsed time：27.69 sec\"\n",
      "  question: 14, elapsed time：55.73 sec\"\n",
      "  question: 15, elapsed time：52.08 sec\"\n",
      "  question: 16, elapsed time：50.77 sec\"\n",
      "  question: 17, elapsed time：39.94 sec\"\n",
      "  question: 18, elapsed time：55.70 sec\"\n"
     ]
    }
   ],
   "source": [
    "for t in range(1, 19):\n",
    "    pre_exe = time.time()\n",
    "\n",
    "    # USE THIS TRAIN DATA WITH THESE QUESTIONS\n",
    "    if t <= 3: \n",
    "        grp = '0-4'\n",
    "    elif t <= 13: \n",
    "        grp = '5-12'\n",
    "    elif t <= 22: \n",
    "        grp = '13-22'\n",
    "\n",
    "    df = dict_modeling_info[grp]['df'].copy()\n",
    "    FEATURES = dict_modeling_info[grp]['feature'].copy()\n",
    "    list_feature_xgb = [f'q_{j}' for j in range(1, t)]\n",
    "    xgb_params['n_estimators'] = int(list_estimator_xgb[t-1])\n",
    "\n",
    "    # TRAIN DATA\n",
    "    df = pd.merge(df, targets.query(f'q == {t}')[['correct']], left_index=True, right_index=True, how='inner')\n",
    "\n",
    "    X_train = df[FEATURES].astype('float32')\n",
    "    y_train = df['correct']\n",
    "\n",
    "    clf = XGBClassifier(**xgb_params)\n",
    "    clf.fit(pd.merge(X_train, oof_xgb[list_feature_xgb], left_index=True, right_index=True, how='inner'), y_train, verbose=0)\n",
    "    clf.save_model(PATH_MODEL_ALL_DATA.format(f'XGB_question{t}.xgb'))\n",
    "\n",
    "    po_exe = time.time()\n",
    "\n",
    "    print(f'  question: {t}, elapsed time：{(po_exe - pre_exe):.2f} sec\"')\n",
    "\n",
    "    del df, X_train, y_train, clf, FEATURES\n",
    "    gc.collect()"
   ]
  },
  {
   "cell_type": "code",
   "execution_count": 78,
   "metadata": {
    "tags": []
   },
   "outputs": [
    {
     "data": {
      "text/plain": [
       "'/home/jovyan/kaggle/gbdt_ensemble.zip'"
      ]
     },
     "execution_count": 78,
     "metadata": {},
     "output_type": "execute_result"
    }
   ],
   "source": [
    "import shutil\n",
    "\n",
    "shutil.make_archive('gbdt_ensemble', format='zip', root_dir=f'model/ensemble_for_psp/{experiment_name}')"
   ]
  },
  {
   "cell_type": "code",
   "execution_count": null,
   "metadata": {},
   "outputs": [],
   "source": []
  }
 ],
 "metadata": {
  "kernelspec": {
   "display_name": "Python 3 (ipykernel)",
   "language": "python",
   "name": "python3"
  },
  "language_info": {
   "codemirror_mode": {
    "name": "ipython",
    "version": 3
   },
   "file_extension": ".py",
   "mimetype": "text/x-python",
   "name": "python",
   "nbconvert_exporter": "python",
   "pygments_lexer": "ipython3",
   "version": "3.8.12"
  }
 },
 "nbformat": 4,
 "nbformat_minor": 4
}
